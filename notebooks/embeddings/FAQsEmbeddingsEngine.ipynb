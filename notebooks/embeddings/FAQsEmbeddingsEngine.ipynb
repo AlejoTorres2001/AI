{
  "cells": [
    {
      "cell_type": "markdown",
      "metadata": {
        "id": "PPg2HdoH8o2p"
      },
      "source": [
        "# FAQs Engine using OpenSource Embeddings\n",
        "\n",
        "An **embedding** is a numerical representation of a piece of information.\n",
        "Text, documents, images, audio, etc. The representation captures the semantic meaning of what is being embedded, making it robust for many industry applications.\n",
        "\n",
        "Given the text \"What is the main benefit of voting?\", an embedding of the sentence could be represented in a vector space, for example, with a list of 384 numbers (for example, [0.84, 0.42, ..., 0.02]). Since this list captures the meaning, we can do exciting things, like calculating the distance between different embeddings to determine how well the meaning of two sentences matches.\n",
        "\n",
        "## Is this a \"New\" thing?\n",
        "\n",
        "This is not quite a revolutionary discover, at the end of the day is another way of encoding unstructured data and text into an a processable format for our models to ingest. \n",
        "Some examples of encoding are OneHotEncoding,Count-base representations, TF-IDF, etc.\n",
        "\n",
        "### OneHotEncoding\n",
        "\n",
        "it creates one really long vectors that is as long as the number of words in your vocabulary. This is not a good idea because it creates a very sparse vector. Filling the vectors with zeroes except for the position representing a given word.This encoding is better suited for deep learning models working with small vocabularies or to encode labels.\n",
        "\n",
        "### Count-base representations\n",
        "\n",
        "they try to squeeze a whole sentence in a vector.There are two main approaches to this: Bag of Words and Bag of N-Grams. Bag of Words is a representation that counts the number of times a word appears in a document. Bag of N-Grams is a representation that counts the number of times a group of N words appear in a document,called n-grams.\n",
        "the problem with Bag of word is that we do not taje into consideration the context of each word, something that n-grams try to solve by grabbing some of the adjacent words as context, it is still not enough to capture the meaning of a sentence. and way more inefficient than Embeddings.\n",
        "\n",
        "### TF-IDF\n",
        "\n",
        "It keeps track of how many times a word appears in a document and how many times this word occurs in other documents throughout the entire training data.\n",
        "this aims to identify the common-use words like \"a,is or he\" and make a distinction between them and the words that are context-specific.\n",
        "\n",
        "this approaches although the have been helpful in the NLP area for years they have serious shortcomes:\n",
        "\n",
        "- They do not take any context into account\n",
        "- they cannot deal with unknown words previously unseen during the training phase\n",
        "- they create very sparse vectors\n",
        "\n",
        "## Embeddings\n",
        "\n",
        "Embeddings aim to represent words in a vector space,using dense vectors, where similar words are closer together and dissimilar words are further apart. This is a very powerful concept because it allows us to use mathematical operations on vectors to answer questions about words. For example, we can calculate the distance between two words and find the closest word to a given word.\n",
        "\n",
        "\n",
        "There are many pre-trained and Open Source words embeddings available, and they are usually trained on large corpora of text. some examples are Word2Vec, GloVe, FastText, etc.\n",
        "\n",
        "Although it is possible to create your own embedding, using it as a layer before the core of your model to create vector representations of the text ingested, it would be a very time and resource consuming task,requiring you a considerable text corpus.\n",
        "\n",
        "\n",
        "## Embeddings as a Service\n",
        "\n",
        "Next, there is a step by step guide to implement a FAQs engine using Open Source technologies and embeddign models thanks to HuggingFace Inference API.\n",
        "\n"
      ]
    },
    {
      "cell_type": "markdown",
      "metadata": {
        "id": "0N6a-RPS9jLg"
      },
      "source": [
        "![](/../assets/80_getting_started_with_embeddings/thumbnail.png)"
      ]
    },
    {
      "cell_type": "markdown",
      "metadata": {
        "id": "70e0sP4t-Cvx"
      },
      "source": [
        "## Embedding a dataset\n",
        "\n",
        "\n",
        "first we need to install the dependencies and set up the auth credentials for the inference API and pick the model we want to use.\n",
        "\n"
      ]
    },
    {
      "cell_type": "code",
      "execution_count": null,
      "metadata": {},
      "outputs": [],
      "source": [
        "#!pip install retry python-dotenv requests pandas huggingface-hub datasets sentence-transformers"
      ]
    },
    {
      "cell_type": "code",
      "execution_count": 2,
      "metadata": {
        "id": "d_McQCASzpT_"
      },
      "outputs": [
        {
          "data": {
            "text/plain": [
              "True"
            ]
          },
          "execution_count": 2,
          "metadata": {},
          "output_type": "execute_result"
        }
      ],
      "source": [
        "import os\n",
        "from dotenv import load_dotenv\n",
        "import requests\n",
        "from retry import retry\n",
        "import pandas as pd\n",
        "import torch\n",
        "from datasets import load_dataset\n",
        "from sentence_transformers.util import semantic_search\n",
        "load_dotenv()\n"
      ]
    },
    {
      "cell_type": "code",
      "execution_count": 3,
      "metadata": {},
      "outputs": [],
      "source": [
        "model_id = \"sentence-transformers/all-MiniLM-L6-v2\"\n",
        "HUGGINGFACEHUB_API_TOKEN = os.getenv(\"HUGGINGFACEHUB_API_TOKEN\")"
      ]
    },
    {
      "cell_type": "markdown",
      "metadata": {
        "id": "23fNFAm1h24M"
      },
      "source": [
        "The first time you generate the embeddings it may take a while (approximately 20 seconds) for the API to return them.\n",
        "\n",
        "We use the `retry` decorator so that if on the first try `output = query(dict(inputs = texts))` doesn't work, wait 10 seconds and try again three times.\n",
        "\n",
        "The reason this happens is because on the first request, the model needs to be downloaded and installed in the server, but subsequent calls are much faster."
      ]
    },
    {
      "cell_type": "code",
      "execution_count": 4,
      "metadata": {
        "id": "Kg0HaYGSz2GC"
      },
      "outputs": [],
      "source": [
        "api_url = f\"https://api-inference.huggingface.co/pipeline/feature-extraction/{model_id}\"\n",
        "headers = {\"Authorization\": f\"Bearer {HUGGINGFACEHUB_API_TOKEN}\"}"
      ]
    },
    {
      "cell_type": "code",
      "execution_count": 5,
      "metadata": {
        "id": "DStL7NC_h1J0"
      },
      "outputs": [],
      "source": [
        "@retry(tries=3, delay=10)\n",
        "def query(texts):\n",
        "    response = requests.post(api_url, headers=headers, json={\"inputs\": texts})\n",
        "    result = response.json()\n",
        "    if isinstance(result, list):\n",
        "      return result\n",
        "    elif list(result.keys())[0] == \"error\":\n",
        "      raise RuntimeError(\n",
        "          \"The model is currently loading, please re-run the query.\"\n",
        "          )"
      ]
    },
    {
      "cell_type": "markdown",
      "metadata": {},
      "source": [
        "## About the example\n",
        "\n",
        "we will be using Medicare FAQs as our text corpus, in this stage we could base our data in pdf files, word documents, websites or any other format that we could extract text from."
      ]
    },
    {
      "cell_type": "code",
      "execution_count": 6,
      "metadata": {
        "id": "u7iHNzsq05k7"
      },
      "outputs": [],
      "source": [
        "texts = [\"How do I get a replacement Medicare card?\",\n",
        "        \"What is the monthly premium for Medicare Part B?\",\n",
        "        \"How do I terminate my Medicare Part B (medical insurance)?\",\n",
        "        \"How do I sign up for Medicare?\",\n",
        "        \"Can I sign up for Medicare Part B if I am working and have health insurance through an employer?\",\n",
        "        \"How do I sign up for Medicare Part B if I already have Part A?\",\n",
        "        \"What are Medicare late enrollment penalties?\",\n",
        "        \"What is Medicare and who can get it?\",\n",
        "        \"How can I get help with my Medicare Part A and Part B premiums?\",\n",
        "        \"What are the different parts of Medicare?\",\n",
        "        \"Will my Medicare premiums be higher because of my higher income?\",\n",
        "        \"What is TRICARE ?\",\n",
        "        \"Should I sign up for Medicare Part B if I have Veterans’ Benefits?\"]\n",
        "\n",
        "output = query(texts)\n"
      ]
    },
    {
      "cell_type": "code",
      "execution_count": 11,
      "metadata": {},
      "outputs": [
        {
          "name": "stdout",
          "output_type": "stream",
          "text": [
            "13/13 questions embedded \n",
            "\n",
            " Example embedding:\n",
            " Dim:384 \n",
            " value: [-0.023889435455203056, 0.055258527398109436, -0.011654871515929699, -0.033414289355278015, -0.01226054597645998, -0.024872783571481705, -0.012663397006690502, 0.025345897302031517, 0.018508462235331535, -0.08350814133882523, -0.0930199921131134, 0.014486260712146759, -0.017410926520824432, -0.08834367990493774, -0.004479092080146074, -0.04632588103413582, -0.013193883001804352, 0.03538179397583008, 0.062311142683029175, 0.048589639365673065, -0.05911844223737717, 0.05413540080189705, -0.06439687311649323, 0.03402399271726608, 0.006636396516114473, 0.03591707721352577, -0.0678376629948616, -0.01773529127240181, -0.012721833772957325, 0.046462420374155045, 0.10864363610744476, 0.023821400478482246, -0.02699640765786171, 0.037173960357904434, 0.09759815037250519, -0.027030108496546745, -0.04542990401387215, 0.031817324459552765, -0.033746279776096344, -0.015198435634374619, -0.021535668522119522, 0.014811212196946144, -0.020891858264803886, 0.06885713338851929, 0.05017419531941414, -0.024727605283260345, -0.062767893075943, 0.04828720539808273, 0.08291032165288925, 0.07922045886516571, -0.04262661933898926, -0.04397192969918251, -0.0189230814576149, 0.075505331158638, 0.005244785454124212, 0.008956982754170895, 0.013388214632868767, 0.013386236503720284, -0.037898603826761246, -0.0027515871915966272, -0.009399209171533585, 0.010537523776292801, 0.01388497930020094, 0.10504571348428726, -0.11193442344665527, 0.03591832518577576, 0.10220180451869965, -0.007275846321135759, 0.06924984604120255, -0.02454393543303013, -0.025698862969875336, -0.022102883085608482, -0.023406438529491425, 0.013708136975765228, 0.040491338819265366, 0.014141226187348366, 0.024133026599884033, -0.0006580724148079753, 0.04596483334898949, 0.017059098929166794, -0.09353466331958771, -0.05327058210968971, 0.01853759214282036, 0.07204819470643997, 0.10833870619535446, 0.01858692429959774, -0.03563721850514412, 0.030583759769797325, -0.00782698206603527, -0.14045493304729462, 0.03143533691763878, 0.07629518210887909, -0.06382015347480774, -0.06555608659982681, -0.031061535701155663, -0.06208596006035805, 0.02928989566862583, -0.05993155390024185, -0.034272659569978714, 0.07215412706136703, 0.02547508291900158, -0.05401616916060448, 0.06511858105659485, -0.036695465445518494, 0.011208959855139256, -0.013092806562781334, 0.053315598517656326, 0.11083425581455231, 0.017506113275885582, -0.02182408981025219, -0.004017271101474762, -0.01791413500905037, 0.03771187365055084, 0.009819526225328445, -0.062192779034376144, 0.06227982044219971, 0.004774926230311394, -0.010209624655544758, 0.06443312019109726, 0.029475532472133636, -0.041479527950286865, -0.039275556802749634, -0.03864466771483421, -0.011427824385464191, -0.06963743269443512, 0.05694795027375221, -0.007169858552515507, -4.924404811693728e-33, 0.07186183333396912, 0.042734477669000626, 0.018728157505393028, -0.05031357705593109, 0.03931429982185364, 0.0051541998982429504, 0.09465143829584122, -0.08906034380197525, 0.03363464027643204, 0.010392513126134872, -0.10608751326799393, 0.03453611955046654, -0.041543181985616684, -0.0336882583796978, -0.0982930064201355, -0.03148942068219185, -0.13386394083499908, -0.00047279029968194664, 0.012700329534709454, 0.12780804932117462, -0.030148059129714966, 0.030323369428515434, 0.017533430829644203, -0.03534911572933197, 0.05983418598771095, 0.08542198687791824, -0.02991499938070774, -0.023464957252144814, 0.06631075590848923, 0.012355725280940533, 0.044686056673526764, -0.0019784835167229176, 0.0491751991212368, -0.018819637596607208, -0.0199944656342268, 0.012050434947013855, 0.0025195013731718063, 0.028847064822912216, 0.02897833101451397, -0.053761620074510574, 0.01872549019753933, 0.0034851962700486183, 0.08385515213012695, -0.048080820590257645, 0.08322681486606598, -0.08432132005691528, 0.0677344873547554, 0.0018954005790874362, 0.0021203565411269665, -0.01005245465785265, -0.0353795625269413, -0.028794443234801292, -0.07019460946321487, -0.0006327438750304282, -0.05958938226103783, -0.07450753450393677, 0.02391187660396099, 0.05751936882734299, 0.06242775544524193, -0.06943385303020477, 0.009213466197252274, -0.042548757046461105, 0.0004898819024674594, 0.01728866621851921, 0.060564786195755005, -0.017264552414417267, 0.006577941123396158, -0.036194365471601486, -0.0811806172132492, -0.004928236827254295, 0.06072382628917694, -0.024496285244822502, -0.03522774204611778, -0.011260117404162884, -0.07112214714288712, -0.00738291721791029, -0.07376493513584137, -0.024308349937200546, -0.03837452083826065, -0.021433454006910324, -0.05050758644938469, -0.05580102279782295, -0.068222776055336, 0.09409607201814651, 0.04538345709443092, 0.04253288730978966, 0.029606880620121956, 0.04498206824064255, -0.05697626620531082, -0.015208268538117409, -0.124933160841465, -0.014040586538612843, 0.054497700184583664, -0.054205674678087234, 0.08057065308094025, 1.7484809906069497e-33, -0.027613746002316475, -0.08122925460338593, 0.042714666575193405, 0.005746530368924141, -0.06190988048911095, -0.08061408996582031, -0.009783306159079075, 0.03407891467213631, 0.07410158216953278, -0.030595850199460983, -0.015077123418450356, 0.11600515991449356, 0.009776792488992214, -0.010370207019150257, 0.0032794412691146135, 0.02990644983947277, -0.03649662062525749, 0.03791316598653793, 0.018538938835263252, 0.009114101529121399, 0.026190245524048805, 0.10473369061946869, 0.01805194467306137, 0.07943090051412582, 0.021429268643260002, 0.06482917815446854, 0.08620336651802063, -0.025035826489329338, 0.004061609506607056, -0.15786607563495636, -0.061515726149082184, -0.11945325136184692, -0.04675696790218353, 0.12254984676837921, 0.023281529545783997, 0.02750266343355179, -0.0260396096855402, 0.10662666708230972, -0.037811435759067535, 0.028568867594003677, -0.05079413205385208, -0.032301388680934906, 0.02735184319317341, 0.07244163751602173, 0.029810430482029915, -0.054999180138111115, -0.004431667737662792, -0.01592755876481533, 0.0071472106501460075, 0.03963133692741394, -0.09032421559095383, -0.06983231008052826, 0.06786192208528519, 0.02265622653067112, -0.08916688710451126, 0.010106527246534824, 0.027015194296836853, 0.006055186502635479, -0.04487388953566551, -0.0768199935555458, 0.00859938096255064, 0.028116196393966675, -0.04691876471042633, 0.003952615428715944, 0.05560615286231041, -0.01756865158677101, 0.02018415927886963, -0.06965838372707367, -0.013222679495811462, 0.0669495016336441, -0.025052446871995926, 0.045661017298698425, 0.008390660397708416, 0.011578296311199665, 0.01808253675699234, -0.033492088317871094, -0.027878345921635628, 0.06462974101305008, -0.02380826137959957, -0.009482566267251968, 0.013004617765545845, -0.10050918161869049, -6.0385820688679814e-05, -0.02635243535041809, -0.07438397407531738, 0.025440417230129242, 0.10197503864765167, -0.06346087157726288, -0.010870917700231075, -0.02309541590511799, -0.023586148396134377, 0.043760571628808975, 0.003388615557923913, -0.06626126170158386, -0.08588435500860214, -1.3805573573222318e-08, -0.010365759953856468, 0.02424291893839836, -0.018487941473722458, 0.032696157693862915, 0.03683305159211159, -0.06090898439288139, -0.039590563625097275, 0.0018942408496513963, -0.04257911071181297, -0.09171313047409058, 0.025090252980589867, 0.07115012407302856, 0.05276220291852951, -0.06081034988164902, 0.028013136237859726, -0.03078942745923996, -0.0316489115357399, -0.01904088631272316, -0.016859542578458786, 0.012497775256633759, -0.0999750867486, -0.021980978548526764, 0.01942972093820572, -0.012669847346842289, -0.0452907532453537, 0.11832186579704285, 0.054847560822963715, -0.040014903992414474, 0.09810496121644974, 0.022277111187577248, -0.030812805518507957, -0.005175750702619553, 0.04910261929035187, 0.04593827947974205, -0.023187924176454544, -0.027573352679610252, -0.040575698018074036, 0.016115885227918625, 0.025010161101818085, -0.05800708383321762, 0.04796474054455757, 0.11795677244663239, -0.008974168449640274, -0.013361088000237942, 0.020988842472434044, -0.02520006336271763, -0.006896165199577808, -0.021130690351128578, 0.005461737979203463, 0.06413751095533371, 0.02600836753845215, -0.029849983751773834, -0.011776498518884182, 0.0030898170080035925, -0.16168783605098724, -0.04642564803361893, 0.006003634072840214, 0.005281325429677963, -0.003342006355524063, 0.027753911912441254, 0.020411226898431778, 0.005777884274721146, 0.03409786522388458, -0.006889115087687969]\n"
          ]
        }
      ],
      "source": [
        "print(f'{len(texts)}/{len(output)} questions embedded \\n\\n Example embedding:\\n Dim:{len(output[0])} \\n value: {output[0]}')\n"
      ]
    },
    {
      "cell_type": "markdown",
      "metadata": {},
      "source": [
        "Lets make a dataframe out of it to make it easier to work with."
      ]
    },
    {
      "cell_type": "code",
      "execution_count": 12,
      "metadata": {
        "id": "PVDIE076NIZB"
      },
      "outputs": [],
      "source": [
        "\n",
        "embeddings = pd.DataFrame(output)"
      ]
    },
    {
      "cell_type": "code",
      "execution_count": 31,
      "metadata": {
        "colab": {
          "base_uri": "https://localhost:8080/"
        },
        "id": "ElAxRHyzjrd4",
        "outputId": "d349d4b2-c4df-4e93-939b-ff673ac4088a"
      },
      "outputs": [
        {
          "name": "stdout",
          "output_type": "stream",
          "text": [
            "0     -0.023889\n",
            "1      0.055259\n",
            "2     -0.011655\n",
            "3     -0.033414\n",
            "4     -0.012261\n",
            "         ...   \n",
            "379    0.027754\n",
            "380    0.020411\n",
            "381    0.005778\n",
            "382    0.034098\n",
            "383   -0.006889\n",
            "Name: 0, Length: 384, dtype: float64\n"
          ]
        }
      ],
      "source": [
        "print(embeddings.iloc[0])"
      ]
    },
    {
      "cell_type": "markdown",
      "metadata": {
        "id": "aKJJzhYX-OEA"
      },
      "source": [
        "## 2. Host embeddings on the Hugging Face Hub\n",
        "\n",
        "HuggingFace works as a Cloud Directory of datasets, models and metrics. It is a place where you can find and share your own models and datasets, leveraging the power of git lfs of large models and datasets shared by the community."
      ]
    },
    {
      "cell_type": "code",
      "execution_count": null,
      "metadata": {
        "colab": {
          "base_uri": "https://localhost:8080/"
        },
        "id": "z06NVe-83wf1",
        "outputId": "6549e164-4f49-4211-825c-152be383d8e9"
      },
      "outputs": [],
      "source": [
        "!huggingface-cli repo create embedded_faqs_medicare --type dataset"
      ]
    },
    {
      "cell_type": "code",
      "execution_count": null,
      "metadata": {
        "colab": {
          "base_uri": "https://localhost:8080/"
        },
        "id": "beO4nEln40-N",
        "outputId": "53c968da-12c7-4e71-b73b-926bab2ae4bb"
      },
      "outputs": [],
      "source": [
        "# This is code required to install git-lfs however it already is installed in Colab instances.\n",
        "#!git lfs install"
      ]
    },
    {
      "cell_type": "markdown",
      "metadata": {},
      "source": [
        "Now clone the empty dataset repository to your local machine"
      ]
    },
    {
      "cell_type": "code",
      "execution_count": null,
      "metadata": {
        "colab": {
          "base_uri": "https://localhost:8080/"
        },
        "id": "2O0b5awa4uTd",
        "outputId": "bbe60f52-7057-4fa3-c6a6-91b66dad063b"
      },
      "outputs": [
        {
          "name": "stdout",
          "output_type": "stream",
          "text": [
            "Cloning into 'embedded_faqs_medicare'...\n",
            "remote: Enumerating objects: 3, done.\u001b[K\n",
            "remote: Counting objects: 100% (3/3), done.\u001b[K\n",
            "remote: Compressing objects: 100% (2/2), done.\u001b[K\n",
            "remote: Total 3 (delta 0), reused 0 (delta 0), pack-reused 0\u001b[K\n",
            "Unpacking objects: 100% (3/3), done.\n"
          ]
        }
      ],
      "source": [
        "!git clone https://{Your HF username}:{your token}@huggingface.co/datasets/ITESM/embedded_faqs_medicare"
      ]
    },
    {
      "cell_type": "markdown",
      "metadata": {},
      "source": [
        "### Save our Embeddings\n",
        "\n",
        "at this point we could have opted to save our embeddings into a vector database such as PinceCone,Chroma or FAISS. However, for the sake of simplicity we will save our embeddings into a CSV file."
      ]
    },
    {
      "cell_type": "code",
      "execution_count": 14,
      "metadata": {
        "id": "pSVebbDq6n4g"
      },
      "outputs": [
        {
          "name": "stdout",
          "output_type": "stream",
          "text": [
            "(13, 384)\n"
          ]
        }
      ],
      "source": [
        "embeddings.to_csv(\"embedded_faqs_medicare_test/embeddings.csv\", index=False)\n",
        "print(embeddings.shape)"
      ]
    },
    {
      "cell_type": "markdown",
      "metadata": {
        "id": "Iezsa2P38rie"
      },
      "source": [
        "*cd* into our repo directory"
      ]
    },
    {
      "cell_type": "code",
      "execution_count": null,
      "metadata": {
        "colab": {
          "base_uri": "https://localhost:8080/"
        },
        "id": "VU2t0vL18gJw",
        "outputId": "f9b9593f-fd5f-45ba-a352-f9bfdbc2285c"
      },
      "outputs": [
        {
          "name": "stdout",
          "output_type": "stream",
          "text": [
            "/content/embedded_faqs_medicare\n"
          ]
        }
      ],
      "source": [
        "%cd embedded_faqs_medicare_test"
      ]
    },
    {
      "cell_type": "markdown",
      "metadata": {},
      "source": [
        "we need to track our file in version control system, commiting and then pushing to the remote repository. This is done by the following commands:"
      ]
    },
    {
      "cell_type": "code",
      "execution_count": null,
      "metadata": {
        "colab": {
          "base_uri": "https://localhost:8080/"
        },
        "id": "oZFTmNB_7BJu",
        "outputId": "6809aa89-f318-43fe-f7bb-5ba359a3bc54"
      },
      "outputs": [
        {
          "name": "stdout",
          "output_type": "stream",
          "text": [
            "Tracking \"embeddings.csv\"\n"
          ]
        }
      ],
      "source": [
        "!git lfs track *.csv\n",
        "!git add .gitattributes\n",
        "!git add embeddings.csv\n",
        "!git commit -m \"First version of the embedded_faqs_medicare dataset\"\n",
        "!git push"
      ]
    },
    {
      "cell_type": "markdown",
      "metadata": {
        "id": "azsWjRb9-gZY"
      },
      "source": [
        "## 3. Get the most similar Frequently Asked Questions to a query\n",
        "\n",
        "getting the dataset out of the train property of our repository object, then we will parse it to  a pandas dataframe to convert it to a numpy representation that can be formatted by torch, it is important to specify the data type as float32 to avoid any errors in the training process."
      ]
    },
    {
      "cell_type": "code",
      "execution_count": 18,
      "metadata": {
        "colab": {
          "base_uri": "https://localhost:8080/",
          "height": 218,
          "referenced_widgets": [
            "6079c0dc0a814b32b6e10a1432cb2f35",
            "86eb7748991d401cbe9a64e7f60c523a",
            "e6fbfaf6e78b419c925c481ff359f46e",
            "e79cbca03af940acbd10b010074f6153",
            "72752bcd0d614a8ebf360b8061f80121",
            "408186f08c51431f924754513888bdd3",
            "1269e3dff1684c2089a364ab0bed33c1",
            "2fd0d5dd350a4ee9913e7b8a5840db1a",
            "746f5a1fcec14e609a5023be2861a423",
            "2190edb56668451188aecbd70981085d",
            "44057a3034c64040a68f4d617b03fc9b",
            "5c20e281be6d49c58169835bc689f2d8",
            "7b6fbb47ccff4a9aa48377cf7788ca83",
            "d4312d97e8264159ad45b34a7f6b146a",
            "b568c8daa7ff4dc2a4282be5f386730a",
            "e24ce8391e074159b6f7581e3c4e3720",
            "6aac2bc80c7f46ae90db428576b123cb",
            "bf484bad4b4a47e684910ced9a102d3b",
            "ebc4b63e4e7b4db9aa207612bcd73a8c",
            "6ca176a351e44d5e87f8953b740bd9e0",
            "fe97d93f79dc43d68c9cc99813c77776",
            "986a6ecf33a9451b8894f604063cf83c",
            "e315aaccdd53443fac46831dfa21445d",
            "c87d3daa8add452490a60a1b50bd51fd",
            "b6623dadc3e247d1a15593829d000d5f",
            "a0538df3d771480abd2762011bbac934",
            "12588170fd924262a3697dcc7c7a517e",
            "30680b66d8ef40ccb3403ffe479ca2fb",
            "fe95e2cef04c48c198c7344c4f9454a7",
            "f91ab3e35ca14c118e5d81bd1164b276",
            "85955f92f0c64117b11642e848ef8f63",
            "de68e87dc64f44aabee3e3b9aa0e606f",
            "fa41c817c1344d708f9f6eea676438ad",
            "535b35d70e3a4cd0ab9ba4c82f20ed46",
            "39347ee641eb4327a9c4540049d790a0",
            "e7f5d1dd002447db8409f94b45e5e85a",
            "048f9a73887547849d841de73f80ebea",
            "a1eb05bc07ea4c0fabe4a89d951912a0",
            "eaefc1f5b7ea498cb82dd72ac3133f68",
            "7fd7b60e3a4b491a9f0dc279ec8bbbaf",
            "a93241da84604652a0be0b84d89e96c1",
            "c0d3106eecc9425fa2f5ec5438ff1c17",
            "28712dd6586948e78979df8af552d62d",
            "afb0ce9fb0cd48539eecf021a855e8c5",
            "f1cce9ffa839418c841877a023bbbaf4",
            "12e1725d39ff49bba9faad5edfeafdda",
            "2484cd070fae4eb9891c4aced52ca141",
            "a85a4c0cda7a4e3598a61023a72d1d8c",
            "e12fad18b2e94abab3c26c73d37feb0b",
            "b5204c4915194dc7a5a1b6b64cb4c157",
            "90f9217967e44213b78618876707c739",
            "0ed817bbd5e749a4a477d6cc42536604",
            "1caaa597369d4cc89ddab28b9dd23f63",
            "7dead6a930744ab2b395e3f2e4fef35d",
            "ffac2d757e8f4c9b9d67750f8cfd369f"
          ]
        },
        "id": "c_kc0dbl5H9d",
        "outputId": "ee8e5984-28a1-46dc-a8de-f6c1f8fa1336"
      },
      "outputs": [
        {
          "name": "stderr",
          "output_type": "stream",
          "text": [
            "Downloading data: 100%|██████████| 106k/106k [00:00<00:00, 147kB/s]\n",
            "Downloading data files: 100%|██████████| 1/1 [00:00<00:00,  1.34it/s]\n",
            "Extracting data files: 100%|██████████| 1/1 [00:00<00:00, 317.25it/s]\n",
            "Generating train split: 13 examples [00:00, 356.37 examples/s]\n"
          ]
        }
      ],
      "source": [
        "faqs_embeddings = load_dataset('AlejoTorres2001/embedded_faqs_medicare_test')\n",
        "dataset_embeddings = torch.from_numpy(faqs_embeddings[\"train\"].to_pandas().to_numpy()).to(torch.float)"
      ]
    },
    {
      "cell_type": "code",
      "execution_count": 26,
      "metadata": {
        "id": "Tb5yJd7ABUBG"
      },
      "outputs": [],
      "source": [
        "question = [\"tell me how to sign un for Medicare\"]\n",
        "output = query(question)"
      ]
    },
    {
      "cell_type": "markdown",
      "metadata": {},
      "source": [
        "We will create an embedding of the query that can represent its semantic meaning. We then compare it to each embedding in our FAQ dataset to identify which is closest to the query in vector space."
      ]
    },
    {
      "cell_type": "code",
      "execution_count": 27,
      "metadata": {
        "colab": {
          "base_uri": "https://localhost:8080/"
        },
        "id": "t3TBXYhi3sof",
        "outputId": "36a24d44-82e6-4150-fc56-7dea0e1a50fa"
      },
      "outputs": [
        {
          "name": "stdout",
          "output_type": "stream",
          "text": [
            "The size of our embedded dataset is torch.Size([13, 384]) and of our embedded query is torch.Size([1, 384]).\n"
          ]
        }
      ],
      "source": [
        "query_embeddings = torch.FloatTensor(output)\n",
        "print(f\"The size of our embedded dataset is {dataset_embeddings.shape} and of our embedded query is {query_embeddings.shape}.\")"
      ]
    },
    {
      "cell_type": "markdown",
      "metadata": {},
      "source": [
        "the last step si to perfom a semantic search on the embedding space. This is done by using the cosine similarity between the embedding of the query and the embedding of the documents. The result is a list of documents sorted by similarity.\n",
        "in thi case we are retrieving the top 5 most similar documents to the query."
      ]
    },
    {
      "cell_type": "code",
      "execution_count": 32,
      "metadata": {
        "colab": {
          "base_uri": "https://localhost:8080/"
        },
        "id": "NHlOjB-17zKk",
        "outputId": "aca22f34-11c3-4217-a554-3155aa44f723"
      },
      "outputs": [
        {
          "name": "stdout",
          "output_type": "stream",
          "text": [
            "[[{'corpus_id': 3, 'score': 0.7229963541030884}, {'corpus_id': 5, 'score': 0.6329377889633179}, {'corpus_id': 2, 'score': 0.5877507328987122}, {'corpus_id': 0, 'score': 0.5482667684555054}, {'corpus_id': 4, 'score': 0.50208580493927}]]\n"
          ]
        }
      ],
      "source": [
        "\n",
        "hits = semantic_search(query_embeddings, dataset_embeddings, top_k=5)\n",
        "\n",
        "print(hits)"
      ]
    },
    {
      "cell_type": "markdown",
      "metadata": {},
      "source": [
        "By using the original position of each FAQ in the original text corpus we can get the exact text chunck using the corpus_id inside the hits object.\n",
        "this process would be the same if we had used a large text divided in chunks instead of a list of FAQs."
      ]
    },
    {
      "cell_type": "code",
      "execution_count": 29,
      "metadata": {
        "colab": {
          "base_uri": "https://localhost:8080/"
        },
        "id": "3P2poeGiecM6",
        "outputId": "92013a42-de15-461d-a881-46e71548da49"
      },
      "outputs": [
        {
          "data": {
            "text/plain": [
              "['How do I sign up for Medicare?',\n",
              " 'How do I sign up for Medicare Part B if I already have Part A?',\n",
              " 'How do I terminate my Medicare Part B (medical insurance)?',\n",
              " 'How do I get a replacement Medicare card?',\n",
              " 'Can I sign up for Medicare Part B if I am working and have health insurance through an employer?']"
            ]
          },
          "execution_count": 29,
          "metadata": {},
          "output_type": "execute_result"
        }
      ],
      "source": [
        "[texts[hits[0][i]['corpus_id']] for i in range(len(hits[0]))]"
      ]
    }
  ],
  "metadata": {
    "colab": {
      "name": "Notebook Companion: Embedding-as-a-Service.ipynb",
      "provenance": []
    },
    "kernelspec": {
      "display_name": "Python 3",
      "name": "python3"
    },
    "language_info": {
      "codemirror_mode": {
        "name": "ipython",
        "version": 3
      },
      "file_extension": ".py",
      "mimetype": "text/x-python",
      "name": "python",
      "nbconvert_exporter": "python",
      "pygments_lexer": "ipython3",
      "version": "3.11.4"
    },
    "widgets": {
      "application/vnd.jupyter.widget-state+json": {
        "048f9a73887547849d841de73f80ebea": {
          "model_module": "@jupyter-widgets/controls",
          "model_module_version": "1.5.0",
          "model_name": "HTMLModel",
          "state": {
            "_dom_classes": [],
            "_model_module": "@jupyter-widgets/controls",
            "_model_module_version": "1.5.0",
            "_model_name": "HTMLModel",
            "_view_count": null,
            "_view_module": "@jupyter-widgets/controls",
            "_view_module_version": "1.5.0",
            "_view_name": "HTMLView",
            "description": "",
            "description_tooltip": null,
            "layout": "IPY_MODEL_28712dd6586948e78979df8af552d62d",
            "placeholder": "​",
            "style": "IPY_MODEL_afb0ce9fb0cd48539eecf021a855e8c5",
            "value": " 1/? [00:00&lt;00:00,  2.14 tables/s]"
          }
        },
        "0ed817bbd5e749a4a477d6cc42536604": {
          "model_module": "@jupyter-widgets/base",
          "model_module_version": "1.2.0",
          "model_name": "LayoutModel",
          "state": {
            "_model_module": "@jupyter-widgets/base",
            "_model_module_version": "1.2.0",
            "_model_name": "LayoutModel",
            "_view_count": null,
            "_view_module": "@jupyter-widgets/base",
            "_view_module_version": "1.2.0",
            "_view_name": "LayoutView",
            "align_content": null,
            "align_items": null,
            "align_self": null,
            "border": null,
            "bottom": null,
            "display": null,
            "flex": null,
            "flex_flow": null,
            "grid_area": null,
            "grid_auto_columns": null,
            "grid_auto_flow": null,
            "grid_auto_rows": null,
            "grid_column": null,
            "grid_gap": null,
            "grid_row": null,
            "grid_template_areas": null,
            "grid_template_columns": null,
            "grid_template_rows": null,
            "height": null,
            "justify_content": null,
            "justify_items": null,
            "left": null,
            "margin": null,
            "max_height": null,
            "max_width": null,
            "min_height": null,
            "min_width": null,
            "object_fit": null,
            "object_position": null,
            "order": null,
            "overflow": null,
            "overflow_x": null,
            "overflow_y": null,
            "padding": null,
            "right": null,
            "top": null,
            "visibility": null,
            "width": null
          }
        },
        "12588170fd924262a3697dcc7c7a517e": {
          "model_module": "@jupyter-widgets/base",
          "model_module_version": "1.2.0",
          "model_name": "LayoutModel",
          "state": {
            "_model_module": "@jupyter-widgets/base",
            "_model_module_version": "1.2.0",
            "_model_name": "LayoutModel",
            "_view_count": null,
            "_view_module": "@jupyter-widgets/base",
            "_view_module_version": "1.2.0",
            "_view_name": "LayoutView",
            "align_content": null,
            "align_items": null,
            "align_self": null,
            "border": null,
            "bottom": null,
            "display": null,
            "flex": null,
            "flex_flow": null,
            "grid_area": null,
            "grid_auto_columns": null,
            "grid_auto_flow": null,
            "grid_auto_rows": null,
            "grid_column": null,
            "grid_gap": null,
            "grid_row": null,
            "grid_template_areas": null,
            "grid_template_columns": null,
            "grid_template_rows": null,
            "height": null,
            "justify_content": null,
            "justify_items": null,
            "left": null,
            "margin": null,
            "max_height": null,
            "max_width": null,
            "min_height": null,
            "min_width": null,
            "object_fit": null,
            "object_position": null,
            "order": null,
            "overflow": null,
            "overflow_x": null,
            "overflow_y": null,
            "padding": null,
            "right": null,
            "top": null,
            "visibility": null,
            "width": null
          }
        },
        "1269e3dff1684c2089a364ab0bed33c1": {
          "model_module": "@jupyter-widgets/controls",
          "model_module_version": "1.5.0",
          "model_name": "DescriptionStyleModel",
          "state": {
            "_model_module": "@jupyter-widgets/controls",
            "_model_module_version": "1.5.0",
            "_model_name": "DescriptionStyleModel",
            "_view_count": null,
            "_view_module": "@jupyter-widgets/base",
            "_view_module_version": "1.2.0",
            "_view_name": "StyleView",
            "description_width": ""
          }
        },
        "12e1725d39ff49bba9faad5edfeafdda": {
          "model_module": "@jupyter-widgets/controls",
          "model_module_version": "1.5.0",
          "model_name": "HTMLModel",
          "state": {
            "_dom_classes": [],
            "_model_module": "@jupyter-widgets/controls",
            "_model_module_version": "1.5.0",
            "_model_name": "HTMLModel",
            "_view_count": null,
            "_view_module": "@jupyter-widgets/controls",
            "_view_module_version": "1.5.0",
            "_view_name": "HTMLView",
            "description": "",
            "description_tooltip": null,
            "layout": "IPY_MODEL_b5204c4915194dc7a5a1b6b64cb4c157",
            "placeholder": "​",
            "style": "IPY_MODEL_90f9217967e44213b78618876707c739",
            "value": "100%"
          }
        },
        "1caaa597369d4cc89ddab28b9dd23f63": {
          "model_module": "@jupyter-widgets/controls",
          "model_module_version": "1.5.0",
          "model_name": "ProgressStyleModel",
          "state": {
            "_model_module": "@jupyter-widgets/controls",
            "_model_module_version": "1.5.0",
            "_model_name": "ProgressStyleModel",
            "_view_count": null,
            "_view_module": "@jupyter-widgets/base",
            "_view_module_version": "1.2.0",
            "_view_name": "StyleView",
            "bar_color": null,
            "description_width": ""
          }
        },
        "2190edb56668451188aecbd70981085d": {
          "model_module": "@jupyter-widgets/base",
          "model_module_version": "1.2.0",
          "model_name": "LayoutModel",
          "state": {
            "_model_module": "@jupyter-widgets/base",
            "_model_module_version": "1.2.0",
            "_model_name": "LayoutModel",
            "_view_count": null,
            "_view_module": "@jupyter-widgets/base",
            "_view_module_version": "1.2.0",
            "_view_name": "LayoutView",
            "align_content": null,
            "align_items": null,
            "align_self": null,
            "border": null,
            "bottom": null,
            "display": null,
            "flex": null,
            "flex_flow": null,
            "grid_area": null,
            "grid_auto_columns": null,
            "grid_auto_flow": null,
            "grid_auto_rows": null,
            "grid_column": null,
            "grid_gap": null,
            "grid_row": null,
            "grid_template_areas": null,
            "grid_template_columns": null,
            "grid_template_rows": null,
            "height": null,
            "justify_content": null,
            "justify_items": null,
            "left": null,
            "margin": null,
            "max_height": null,
            "max_width": null,
            "min_height": null,
            "min_width": null,
            "object_fit": null,
            "object_position": null,
            "order": null,
            "overflow": null,
            "overflow_x": null,
            "overflow_y": null,
            "padding": null,
            "right": null,
            "top": null,
            "visibility": null,
            "width": null
          }
        },
        "2484cd070fae4eb9891c4aced52ca141": {
          "model_module": "@jupyter-widgets/controls",
          "model_module_version": "1.5.0",
          "model_name": "FloatProgressModel",
          "state": {
            "_dom_classes": [],
            "_model_module": "@jupyter-widgets/controls",
            "_model_module_version": "1.5.0",
            "_model_name": "FloatProgressModel",
            "_view_count": null,
            "_view_module": "@jupyter-widgets/controls",
            "_view_module_version": "1.5.0",
            "_view_name": "ProgressView",
            "bar_style": "success",
            "description": "",
            "description_tooltip": null,
            "layout": "IPY_MODEL_0ed817bbd5e749a4a477d6cc42536604",
            "max": 1,
            "min": 0,
            "orientation": "horizontal",
            "style": "IPY_MODEL_1caaa597369d4cc89ddab28b9dd23f63",
            "value": 1
          }
        },
        "28712dd6586948e78979df8af552d62d": {
          "model_module": "@jupyter-widgets/base",
          "model_module_version": "1.2.0",
          "model_name": "LayoutModel",
          "state": {
            "_model_module": "@jupyter-widgets/base",
            "_model_module_version": "1.2.0",
            "_model_name": "LayoutModel",
            "_view_count": null,
            "_view_module": "@jupyter-widgets/base",
            "_view_module_version": "1.2.0",
            "_view_name": "LayoutView",
            "align_content": null,
            "align_items": null,
            "align_self": null,
            "border": null,
            "bottom": null,
            "display": null,
            "flex": null,
            "flex_flow": null,
            "grid_area": null,
            "grid_auto_columns": null,
            "grid_auto_flow": null,
            "grid_auto_rows": null,
            "grid_column": null,
            "grid_gap": null,
            "grid_row": null,
            "grid_template_areas": null,
            "grid_template_columns": null,
            "grid_template_rows": null,
            "height": null,
            "justify_content": null,
            "justify_items": null,
            "left": null,
            "margin": null,
            "max_height": null,
            "max_width": null,
            "min_height": null,
            "min_width": null,
            "object_fit": null,
            "object_position": null,
            "order": null,
            "overflow": null,
            "overflow_x": null,
            "overflow_y": null,
            "padding": null,
            "right": null,
            "top": null,
            "visibility": null,
            "width": null
          }
        },
        "2fd0d5dd350a4ee9913e7b8a5840db1a": {
          "model_module": "@jupyter-widgets/base",
          "model_module_version": "1.2.0",
          "model_name": "LayoutModel",
          "state": {
            "_model_module": "@jupyter-widgets/base",
            "_model_module_version": "1.2.0",
            "_model_name": "LayoutModel",
            "_view_count": null,
            "_view_module": "@jupyter-widgets/base",
            "_view_module_version": "1.2.0",
            "_view_name": "LayoutView",
            "align_content": null,
            "align_items": null,
            "align_self": null,
            "border": null,
            "bottom": null,
            "display": null,
            "flex": null,
            "flex_flow": null,
            "grid_area": null,
            "grid_auto_columns": null,
            "grid_auto_flow": null,
            "grid_auto_rows": null,
            "grid_column": null,
            "grid_gap": null,
            "grid_row": null,
            "grid_template_areas": null,
            "grid_template_columns": null,
            "grid_template_rows": null,
            "height": null,
            "justify_content": null,
            "justify_items": null,
            "left": null,
            "margin": null,
            "max_height": null,
            "max_width": null,
            "min_height": null,
            "min_width": null,
            "object_fit": null,
            "object_position": null,
            "order": null,
            "overflow": null,
            "overflow_x": null,
            "overflow_y": null,
            "padding": null,
            "right": null,
            "top": null,
            "visibility": null,
            "width": null
          }
        },
        "30680b66d8ef40ccb3403ffe479ca2fb": {
          "model_module": "@jupyter-widgets/base",
          "model_module_version": "1.2.0",
          "model_name": "LayoutModel",
          "state": {
            "_model_module": "@jupyter-widgets/base",
            "_model_module_version": "1.2.0",
            "_model_name": "LayoutModel",
            "_view_count": null,
            "_view_module": "@jupyter-widgets/base",
            "_view_module_version": "1.2.0",
            "_view_name": "LayoutView",
            "align_content": null,
            "align_items": null,
            "align_self": null,
            "border": null,
            "bottom": null,
            "display": null,
            "flex": null,
            "flex_flow": null,
            "grid_area": null,
            "grid_auto_columns": null,
            "grid_auto_flow": null,
            "grid_auto_rows": null,
            "grid_column": null,
            "grid_gap": null,
            "grid_row": null,
            "grid_template_areas": null,
            "grid_template_columns": null,
            "grid_template_rows": null,
            "height": null,
            "justify_content": null,
            "justify_items": null,
            "left": null,
            "margin": null,
            "max_height": null,
            "max_width": null,
            "min_height": null,
            "min_width": null,
            "object_fit": null,
            "object_position": null,
            "order": null,
            "overflow": null,
            "overflow_x": null,
            "overflow_y": null,
            "padding": null,
            "right": null,
            "top": null,
            "visibility": null,
            "width": null
          }
        },
        "39347ee641eb4327a9c4540049d790a0": {
          "model_module": "@jupyter-widgets/controls",
          "model_module_version": "1.5.0",
          "model_name": "HTMLModel",
          "state": {
            "_dom_classes": [],
            "_model_module": "@jupyter-widgets/controls",
            "_model_module_version": "1.5.0",
            "_model_name": "HTMLModel",
            "_view_count": null,
            "_view_module": "@jupyter-widgets/controls",
            "_view_module_version": "1.5.0",
            "_view_name": "HTMLView",
            "description": "",
            "description_tooltip": null,
            "layout": "IPY_MODEL_eaefc1f5b7ea498cb82dd72ac3133f68",
            "placeholder": "​",
            "style": "IPY_MODEL_7fd7b60e3a4b491a9f0dc279ec8bbbaf",
            "value": ""
          }
        },
        "408186f08c51431f924754513888bdd3": {
          "model_module": "@jupyter-widgets/base",
          "model_module_version": "1.2.0",
          "model_name": "LayoutModel",
          "state": {
            "_model_module": "@jupyter-widgets/base",
            "_model_module_version": "1.2.0",
            "_model_name": "LayoutModel",
            "_view_count": null,
            "_view_module": "@jupyter-widgets/base",
            "_view_module_version": "1.2.0",
            "_view_name": "LayoutView",
            "align_content": null,
            "align_items": null,
            "align_self": null,
            "border": null,
            "bottom": null,
            "display": null,
            "flex": null,
            "flex_flow": null,
            "grid_area": null,
            "grid_auto_columns": null,
            "grid_auto_flow": null,
            "grid_auto_rows": null,
            "grid_column": null,
            "grid_gap": null,
            "grid_row": null,
            "grid_template_areas": null,
            "grid_template_columns": null,
            "grid_template_rows": null,
            "height": null,
            "justify_content": null,
            "justify_items": null,
            "left": null,
            "margin": null,
            "max_height": null,
            "max_width": null,
            "min_height": null,
            "min_width": null,
            "object_fit": null,
            "object_position": null,
            "order": null,
            "overflow": null,
            "overflow_x": null,
            "overflow_y": null,
            "padding": null,
            "right": null,
            "top": null,
            "visibility": null,
            "width": null
          }
        },
        "44057a3034c64040a68f4d617b03fc9b": {
          "model_module": "@jupyter-widgets/controls",
          "model_module_version": "1.5.0",
          "model_name": "DescriptionStyleModel",
          "state": {
            "_model_module": "@jupyter-widgets/controls",
            "_model_module_version": "1.5.0",
            "_model_name": "DescriptionStyleModel",
            "_view_count": null,
            "_view_module": "@jupyter-widgets/base",
            "_view_module_version": "1.2.0",
            "_view_name": "StyleView",
            "description_width": ""
          }
        },
        "535b35d70e3a4cd0ab9ba4c82f20ed46": {
          "model_module": "@jupyter-widgets/controls",
          "model_module_version": "1.5.0",
          "model_name": "HBoxModel",
          "state": {
            "_dom_classes": [],
            "_model_module": "@jupyter-widgets/controls",
            "_model_module_version": "1.5.0",
            "_model_name": "HBoxModel",
            "_view_count": null,
            "_view_module": "@jupyter-widgets/controls",
            "_view_module_version": "1.5.0",
            "_view_name": "HBoxView",
            "box_style": "",
            "children": [
              "IPY_MODEL_39347ee641eb4327a9c4540049d790a0",
              "IPY_MODEL_e7f5d1dd002447db8409f94b45e5e85a",
              "IPY_MODEL_048f9a73887547849d841de73f80ebea"
            ],
            "layout": "IPY_MODEL_a1eb05bc07ea4c0fabe4a89d951912a0"
          }
        },
        "5c20e281be6d49c58169835bc689f2d8": {
          "model_module": "@jupyter-widgets/controls",
          "model_module_version": "1.5.0",
          "model_name": "HBoxModel",
          "state": {
            "_dom_classes": [],
            "_model_module": "@jupyter-widgets/controls",
            "_model_module_version": "1.5.0",
            "_model_name": "HBoxModel",
            "_view_count": null,
            "_view_module": "@jupyter-widgets/controls",
            "_view_module_version": "1.5.0",
            "_view_name": "HBoxView",
            "box_style": "",
            "children": [
              "IPY_MODEL_7b6fbb47ccff4a9aa48377cf7788ca83",
              "IPY_MODEL_d4312d97e8264159ad45b34a7f6b146a",
              "IPY_MODEL_b568c8daa7ff4dc2a4282be5f386730a"
            ],
            "layout": "IPY_MODEL_e24ce8391e074159b6f7581e3c4e3720"
          }
        },
        "6079c0dc0a814b32b6e10a1432cb2f35": {
          "model_module": "@jupyter-widgets/controls",
          "model_module_version": "1.5.0",
          "model_name": "HBoxModel",
          "state": {
            "_dom_classes": [],
            "_model_module": "@jupyter-widgets/controls",
            "_model_module_version": "1.5.0",
            "_model_name": "HBoxModel",
            "_view_count": null,
            "_view_module": "@jupyter-widgets/controls",
            "_view_module_version": "1.5.0",
            "_view_name": "HBoxView",
            "box_style": "",
            "children": [
              "IPY_MODEL_86eb7748991d401cbe9a64e7f60c523a",
              "IPY_MODEL_e6fbfaf6e78b419c925c481ff359f46e",
              "IPY_MODEL_e79cbca03af940acbd10b010074f6153"
            ],
            "layout": "IPY_MODEL_72752bcd0d614a8ebf360b8061f80121"
          }
        },
        "6aac2bc80c7f46ae90db428576b123cb": {
          "model_module": "@jupyter-widgets/base",
          "model_module_version": "1.2.0",
          "model_name": "LayoutModel",
          "state": {
            "_model_module": "@jupyter-widgets/base",
            "_model_module_version": "1.2.0",
            "_model_name": "LayoutModel",
            "_view_count": null,
            "_view_module": "@jupyter-widgets/base",
            "_view_module_version": "1.2.0",
            "_view_name": "LayoutView",
            "align_content": null,
            "align_items": null,
            "align_self": null,
            "border": null,
            "bottom": null,
            "display": null,
            "flex": null,
            "flex_flow": null,
            "grid_area": null,
            "grid_auto_columns": null,
            "grid_auto_flow": null,
            "grid_auto_rows": null,
            "grid_column": null,
            "grid_gap": null,
            "grid_row": null,
            "grid_template_areas": null,
            "grid_template_columns": null,
            "grid_template_rows": null,
            "height": null,
            "justify_content": null,
            "justify_items": null,
            "left": null,
            "margin": null,
            "max_height": null,
            "max_width": null,
            "min_height": null,
            "min_width": null,
            "object_fit": null,
            "object_position": null,
            "order": null,
            "overflow": null,
            "overflow_x": null,
            "overflow_y": null,
            "padding": null,
            "right": null,
            "top": null,
            "visibility": null,
            "width": null
          }
        },
        "6ca176a351e44d5e87f8953b740bd9e0": {
          "model_module": "@jupyter-widgets/controls",
          "model_module_version": "1.5.0",
          "model_name": "ProgressStyleModel",
          "state": {
            "_model_module": "@jupyter-widgets/controls",
            "_model_module_version": "1.5.0",
            "_model_name": "ProgressStyleModel",
            "_view_count": null,
            "_view_module": "@jupyter-widgets/base",
            "_view_module_version": "1.2.0",
            "_view_name": "StyleView",
            "bar_color": null,
            "description_width": ""
          }
        },
        "72752bcd0d614a8ebf360b8061f80121": {
          "model_module": "@jupyter-widgets/base",
          "model_module_version": "1.2.0",
          "model_name": "LayoutModel",
          "state": {
            "_model_module": "@jupyter-widgets/base",
            "_model_module_version": "1.2.0",
            "_model_name": "LayoutModel",
            "_view_count": null,
            "_view_module": "@jupyter-widgets/base",
            "_view_module_version": "1.2.0",
            "_view_name": "LayoutView",
            "align_content": null,
            "align_items": null,
            "align_self": null,
            "border": null,
            "bottom": null,
            "display": null,
            "flex": null,
            "flex_flow": null,
            "grid_area": null,
            "grid_auto_columns": null,
            "grid_auto_flow": null,
            "grid_auto_rows": null,
            "grid_column": null,
            "grid_gap": null,
            "grid_row": null,
            "grid_template_areas": null,
            "grid_template_columns": null,
            "grid_template_rows": null,
            "height": null,
            "justify_content": null,
            "justify_items": null,
            "left": null,
            "margin": null,
            "max_height": null,
            "max_width": null,
            "min_height": null,
            "min_width": null,
            "object_fit": null,
            "object_position": null,
            "order": null,
            "overflow": null,
            "overflow_x": null,
            "overflow_y": null,
            "padding": null,
            "right": null,
            "top": null,
            "visibility": null,
            "width": null
          }
        },
        "746f5a1fcec14e609a5023be2861a423": {
          "model_module": "@jupyter-widgets/controls",
          "model_module_version": "1.5.0",
          "model_name": "ProgressStyleModel",
          "state": {
            "_model_module": "@jupyter-widgets/controls",
            "_model_module_version": "1.5.0",
            "_model_name": "ProgressStyleModel",
            "_view_count": null,
            "_view_module": "@jupyter-widgets/base",
            "_view_module_version": "1.2.0",
            "_view_name": "StyleView",
            "bar_color": null,
            "description_width": ""
          }
        },
        "7b6fbb47ccff4a9aa48377cf7788ca83": {
          "model_module": "@jupyter-widgets/controls",
          "model_module_version": "1.5.0",
          "model_name": "HTMLModel",
          "state": {
            "_dom_classes": [],
            "_model_module": "@jupyter-widgets/controls",
            "_model_module_version": "1.5.0",
            "_model_name": "HTMLModel",
            "_view_count": null,
            "_view_module": "@jupyter-widgets/controls",
            "_view_module_version": "1.5.0",
            "_view_name": "HTMLView",
            "description": "",
            "description_tooltip": null,
            "layout": "IPY_MODEL_6aac2bc80c7f46ae90db428576b123cb",
            "placeholder": "​",
            "style": "IPY_MODEL_bf484bad4b4a47e684910ced9a102d3b",
            "value": "Downloading data: 100%"
          }
        },
        "7dead6a930744ab2b395e3f2e4fef35d": {
          "model_module": "@jupyter-widgets/base",
          "model_module_version": "1.2.0",
          "model_name": "LayoutModel",
          "state": {
            "_model_module": "@jupyter-widgets/base",
            "_model_module_version": "1.2.0",
            "_model_name": "LayoutModel",
            "_view_count": null,
            "_view_module": "@jupyter-widgets/base",
            "_view_module_version": "1.2.0",
            "_view_name": "LayoutView",
            "align_content": null,
            "align_items": null,
            "align_self": null,
            "border": null,
            "bottom": null,
            "display": null,
            "flex": null,
            "flex_flow": null,
            "grid_area": null,
            "grid_auto_columns": null,
            "grid_auto_flow": null,
            "grid_auto_rows": null,
            "grid_column": null,
            "grid_gap": null,
            "grid_row": null,
            "grid_template_areas": null,
            "grid_template_columns": null,
            "grid_template_rows": null,
            "height": null,
            "justify_content": null,
            "justify_items": null,
            "left": null,
            "margin": null,
            "max_height": null,
            "max_width": null,
            "min_height": null,
            "min_width": null,
            "object_fit": null,
            "object_position": null,
            "order": null,
            "overflow": null,
            "overflow_x": null,
            "overflow_y": null,
            "padding": null,
            "right": null,
            "top": null,
            "visibility": null,
            "width": null
          }
        },
        "7fd7b60e3a4b491a9f0dc279ec8bbbaf": {
          "model_module": "@jupyter-widgets/controls",
          "model_module_version": "1.5.0",
          "model_name": "DescriptionStyleModel",
          "state": {
            "_model_module": "@jupyter-widgets/controls",
            "_model_module_version": "1.5.0",
            "_model_name": "DescriptionStyleModel",
            "_view_count": null,
            "_view_module": "@jupyter-widgets/base",
            "_view_module_version": "1.2.0",
            "_view_name": "StyleView",
            "description_width": ""
          }
        },
        "85955f92f0c64117b11642e848ef8f63": {
          "model_module": "@jupyter-widgets/controls",
          "model_module_version": "1.5.0",
          "model_name": "ProgressStyleModel",
          "state": {
            "_model_module": "@jupyter-widgets/controls",
            "_model_module_version": "1.5.0",
            "_model_name": "ProgressStyleModel",
            "_view_count": null,
            "_view_module": "@jupyter-widgets/base",
            "_view_module_version": "1.2.0",
            "_view_name": "StyleView",
            "bar_color": null,
            "description_width": ""
          }
        },
        "86eb7748991d401cbe9a64e7f60c523a": {
          "model_module": "@jupyter-widgets/controls",
          "model_module_version": "1.5.0",
          "model_name": "HTMLModel",
          "state": {
            "_dom_classes": [],
            "_model_module": "@jupyter-widgets/controls",
            "_model_module_version": "1.5.0",
            "_model_name": "HTMLModel",
            "_view_count": null,
            "_view_module": "@jupyter-widgets/controls",
            "_view_module_version": "1.5.0",
            "_view_name": "HTMLView",
            "description": "",
            "description_tooltip": null,
            "layout": "IPY_MODEL_408186f08c51431f924754513888bdd3",
            "placeholder": "​",
            "style": "IPY_MODEL_1269e3dff1684c2089a364ab0bed33c1",
            "value": "Downloading data files: 100%"
          }
        },
        "90f9217967e44213b78618876707c739": {
          "model_module": "@jupyter-widgets/controls",
          "model_module_version": "1.5.0",
          "model_name": "DescriptionStyleModel",
          "state": {
            "_model_module": "@jupyter-widgets/controls",
            "_model_module_version": "1.5.0",
            "_model_name": "DescriptionStyleModel",
            "_view_count": null,
            "_view_module": "@jupyter-widgets/base",
            "_view_module_version": "1.2.0",
            "_view_name": "StyleView",
            "description_width": ""
          }
        },
        "986a6ecf33a9451b8894f604063cf83c": {
          "model_module": "@jupyter-widgets/controls",
          "model_module_version": "1.5.0",
          "model_name": "DescriptionStyleModel",
          "state": {
            "_model_module": "@jupyter-widgets/controls",
            "_model_module_version": "1.5.0",
            "_model_name": "DescriptionStyleModel",
            "_view_count": null,
            "_view_module": "@jupyter-widgets/base",
            "_view_module_version": "1.2.0",
            "_view_name": "StyleView",
            "description_width": ""
          }
        },
        "a0538df3d771480abd2762011bbac934": {
          "model_module": "@jupyter-widgets/controls",
          "model_module_version": "1.5.0",
          "model_name": "HTMLModel",
          "state": {
            "_dom_classes": [],
            "_model_module": "@jupyter-widgets/controls",
            "_model_module_version": "1.5.0",
            "_model_name": "HTMLModel",
            "_view_count": null,
            "_view_module": "@jupyter-widgets/controls",
            "_view_module_version": "1.5.0",
            "_view_name": "HTMLView",
            "description": "",
            "description_tooltip": null,
            "layout": "IPY_MODEL_de68e87dc64f44aabee3e3b9aa0e606f",
            "placeholder": "​",
            "style": "IPY_MODEL_fa41c817c1344d708f9f6eea676438ad",
            "value": " 1/1 [00:00&lt;00:00,  8.70it/s]"
          }
        },
        "a1eb05bc07ea4c0fabe4a89d951912a0": {
          "model_module": "@jupyter-widgets/base",
          "model_module_version": "1.2.0",
          "model_name": "LayoutModel",
          "state": {
            "_model_module": "@jupyter-widgets/base",
            "_model_module_version": "1.2.0",
            "_model_name": "LayoutModel",
            "_view_count": null,
            "_view_module": "@jupyter-widgets/base",
            "_view_module_version": "1.2.0",
            "_view_name": "LayoutView",
            "align_content": null,
            "align_items": null,
            "align_self": null,
            "border": null,
            "bottom": null,
            "display": null,
            "flex": null,
            "flex_flow": null,
            "grid_area": null,
            "grid_auto_columns": null,
            "grid_auto_flow": null,
            "grid_auto_rows": null,
            "grid_column": null,
            "grid_gap": null,
            "grid_row": null,
            "grid_template_areas": null,
            "grid_template_columns": null,
            "grid_template_rows": null,
            "height": null,
            "justify_content": null,
            "justify_items": null,
            "left": null,
            "margin": null,
            "max_height": null,
            "max_width": null,
            "min_height": null,
            "min_width": null,
            "object_fit": null,
            "object_position": null,
            "order": null,
            "overflow": null,
            "overflow_x": null,
            "overflow_y": null,
            "padding": null,
            "right": null,
            "top": null,
            "visibility": null,
            "width": null
          }
        },
        "a85a4c0cda7a4e3598a61023a72d1d8c": {
          "model_module": "@jupyter-widgets/controls",
          "model_module_version": "1.5.0",
          "model_name": "HTMLModel",
          "state": {
            "_dom_classes": [],
            "_model_module": "@jupyter-widgets/controls",
            "_model_module_version": "1.5.0",
            "_model_name": "HTMLModel",
            "_view_count": null,
            "_view_module": "@jupyter-widgets/controls",
            "_view_module_version": "1.5.0",
            "_view_name": "HTMLView",
            "description": "",
            "description_tooltip": null,
            "layout": "IPY_MODEL_7dead6a930744ab2b395e3f2e4fef35d",
            "placeholder": "​",
            "style": "IPY_MODEL_ffac2d757e8f4c9b9d67750f8cfd369f",
            "value": " 1/1 [00:00&lt;00:00,  4.80it/s]"
          }
        },
        "a93241da84604652a0be0b84d89e96c1": {
          "model_module": "@jupyter-widgets/base",
          "model_module_version": "1.2.0",
          "model_name": "LayoutModel",
          "state": {
            "_model_module": "@jupyter-widgets/base",
            "_model_module_version": "1.2.0",
            "_model_name": "LayoutModel",
            "_view_count": null,
            "_view_module": "@jupyter-widgets/base",
            "_view_module_version": "1.2.0",
            "_view_name": "LayoutView",
            "align_content": null,
            "align_items": null,
            "align_self": null,
            "border": null,
            "bottom": null,
            "display": null,
            "flex": null,
            "flex_flow": null,
            "grid_area": null,
            "grid_auto_columns": null,
            "grid_auto_flow": null,
            "grid_auto_rows": null,
            "grid_column": null,
            "grid_gap": null,
            "grid_row": null,
            "grid_template_areas": null,
            "grid_template_columns": null,
            "grid_template_rows": null,
            "height": null,
            "justify_content": null,
            "justify_items": null,
            "left": null,
            "margin": null,
            "max_height": null,
            "max_width": null,
            "min_height": null,
            "min_width": null,
            "object_fit": null,
            "object_position": null,
            "order": null,
            "overflow": null,
            "overflow_x": null,
            "overflow_y": null,
            "padding": null,
            "right": null,
            "top": null,
            "visibility": null,
            "width": "20px"
          }
        },
        "afb0ce9fb0cd48539eecf021a855e8c5": {
          "model_module": "@jupyter-widgets/controls",
          "model_module_version": "1.5.0",
          "model_name": "DescriptionStyleModel",
          "state": {
            "_model_module": "@jupyter-widgets/controls",
            "_model_module_version": "1.5.0",
            "_model_name": "DescriptionStyleModel",
            "_view_count": null,
            "_view_module": "@jupyter-widgets/base",
            "_view_module_version": "1.2.0",
            "_view_name": "StyleView",
            "description_width": ""
          }
        },
        "b5204c4915194dc7a5a1b6b64cb4c157": {
          "model_module": "@jupyter-widgets/base",
          "model_module_version": "1.2.0",
          "model_name": "LayoutModel",
          "state": {
            "_model_module": "@jupyter-widgets/base",
            "_model_module_version": "1.2.0",
            "_model_name": "LayoutModel",
            "_view_count": null,
            "_view_module": "@jupyter-widgets/base",
            "_view_module_version": "1.2.0",
            "_view_name": "LayoutView",
            "align_content": null,
            "align_items": null,
            "align_self": null,
            "border": null,
            "bottom": null,
            "display": null,
            "flex": null,
            "flex_flow": null,
            "grid_area": null,
            "grid_auto_columns": null,
            "grid_auto_flow": null,
            "grid_auto_rows": null,
            "grid_column": null,
            "grid_gap": null,
            "grid_row": null,
            "grid_template_areas": null,
            "grid_template_columns": null,
            "grid_template_rows": null,
            "height": null,
            "justify_content": null,
            "justify_items": null,
            "left": null,
            "margin": null,
            "max_height": null,
            "max_width": null,
            "min_height": null,
            "min_width": null,
            "object_fit": null,
            "object_position": null,
            "order": null,
            "overflow": null,
            "overflow_x": null,
            "overflow_y": null,
            "padding": null,
            "right": null,
            "top": null,
            "visibility": null,
            "width": null
          }
        },
        "b568c8daa7ff4dc2a4282be5f386730a": {
          "model_module": "@jupyter-widgets/controls",
          "model_module_version": "1.5.0",
          "model_name": "HTMLModel",
          "state": {
            "_dom_classes": [],
            "_model_module": "@jupyter-widgets/controls",
            "_model_module_version": "1.5.0",
            "_model_name": "HTMLModel",
            "_view_count": null,
            "_view_module": "@jupyter-widgets/controls",
            "_view_module_version": "1.5.0",
            "_view_name": "HTMLView",
            "description": "",
            "description_tooltip": null,
            "layout": "IPY_MODEL_fe97d93f79dc43d68c9cc99813c77776",
            "placeholder": "​",
            "style": "IPY_MODEL_986a6ecf33a9451b8894f604063cf83c",
            "value": " 106k/106k [00:00&lt;00:00, 6.12kB/s]"
          }
        },
        "b6623dadc3e247d1a15593829d000d5f": {
          "model_module": "@jupyter-widgets/controls",
          "model_module_version": "1.5.0",
          "model_name": "FloatProgressModel",
          "state": {
            "_dom_classes": [],
            "_model_module": "@jupyter-widgets/controls",
            "_model_module_version": "1.5.0",
            "_model_name": "FloatProgressModel",
            "_view_count": null,
            "_view_module": "@jupyter-widgets/controls",
            "_view_module_version": "1.5.0",
            "_view_name": "ProgressView",
            "bar_style": "success",
            "description": "",
            "description_tooltip": null,
            "layout": "IPY_MODEL_f91ab3e35ca14c118e5d81bd1164b276",
            "max": 1,
            "min": 0,
            "orientation": "horizontal",
            "style": "IPY_MODEL_85955f92f0c64117b11642e848ef8f63",
            "value": 1
          }
        },
        "bf484bad4b4a47e684910ced9a102d3b": {
          "model_module": "@jupyter-widgets/controls",
          "model_module_version": "1.5.0",
          "model_name": "DescriptionStyleModel",
          "state": {
            "_model_module": "@jupyter-widgets/controls",
            "_model_module_version": "1.5.0",
            "_model_name": "DescriptionStyleModel",
            "_view_count": null,
            "_view_module": "@jupyter-widgets/base",
            "_view_module_version": "1.2.0",
            "_view_name": "StyleView",
            "description_width": ""
          }
        },
        "c0d3106eecc9425fa2f5ec5438ff1c17": {
          "model_module": "@jupyter-widgets/controls",
          "model_module_version": "1.5.0",
          "model_name": "ProgressStyleModel",
          "state": {
            "_model_module": "@jupyter-widgets/controls",
            "_model_module_version": "1.5.0",
            "_model_name": "ProgressStyleModel",
            "_view_count": null,
            "_view_module": "@jupyter-widgets/base",
            "_view_module_version": "1.2.0",
            "_view_name": "StyleView",
            "bar_color": null,
            "description_width": ""
          }
        },
        "c87d3daa8add452490a60a1b50bd51fd": {
          "model_module": "@jupyter-widgets/controls",
          "model_module_version": "1.5.0",
          "model_name": "HTMLModel",
          "state": {
            "_dom_classes": [],
            "_model_module": "@jupyter-widgets/controls",
            "_model_module_version": "1.5.0",
            "_model_name": "HTMLModel",
            "_view_count": null,
            "_view_module": "@jupyter-widgets/controls",
            "_view_module_version": "1.5.0",
            "_view_name": "HTMLView",
            "description": "",
            "description_tooltip": null,
            "layout": "IPY_MODEL_30680b66d8ef40ccb3403ffe479ca2fb",
            "placeholder": "​",
            "style": "IPY_MODEL_fe95e2cef04c48c198c7344c4f9454a7",
            "value": "Extracting data files: 100%"
          }
        },
        "d4312d97e8264159ad45b34a7f6b146a": {
          "model_module": "@jupyter-widgets/controls",
          "model_module_version": "1.5.0",
          "model_name": "FloatProgressModel",
          "state": {
            "_dom_classes": [],
            "_model_module": "@jupyter-widgets/controls",
            "_model_module_version": "1.5.0",
            "_model_name": "FloatProgressModel",
            "_view_count": null,
            "_view_module": "@jupyter-widgets/controls",
            "_view_module_version": "1.5.0",
            "_view_name": "ProgressView",
            "bar_style": "success",
            "description": "",
            "description_tooltip": null,
            "layout": "IPY_MODEL_ebc4b63e4e7b4db9aa207612bcd73a8c",
            "max": 106049,
            "min": 0,
            "orientation": "horizontal",
            "style": "IPY_MODEL_6ca176a351e44d5e87f8953b740bd9e0",
            "value": 106049
          }
        },
        "de68e87dc64f44aabee3e3b9aa0e606f": {
          "model_module": "@jupyter-widgets/base",
          "model_module_version": "1.2.0",
          "model_name": "LayoutModel",
          "state": {
            "_model_module": "@jupyter-widgets/base",
            "_model_module_version": "1.2.0",
            "_model_name": "LayoutModel",
            "_view_count": null,
            "_view_module": "@jupyter-widgets/base",
            "_view_module_version": "1.2.0",
            "_view_name": "LayoutView",
            "align_content": null,
            "align_items": null,
            "align_self": null,
            "border": null,
            "bottom": null,
            "display": null,
            "flex": null,
            "flex_flow": null,
            "grid_area": null,
            "grid_auto_columns": null,
            "grid_auto_flow": null,
            "grid_auto_rows": null,
            "grid_column": null,
            "grid_gap": null,
            "grid_row": null,
            "grid_template_areas": null,
            "grid_template_columns": null,
            "grid_template_rows": null,
            "height": null,
            "justify_content": null,
            "justify_items": null,
            "left": null,
            "margin": null,
            "max_height": null,
            "max_width": null,
            "min_height": null,
            "min_width": null,
            "object_fit": null,
            "object_position": null,
            "order": null,
            "overflow": null,
            "overflow_x": null,
            "overflow_y": null,
            "padding": null,
            "right": null,
            "top": null,
            "visibility": null,
            "width": null
          }
        },
        "e12fad18b2e94abab3c26c73d37feb0b": {
          "model_module": "@jupyter-widgets/base",
          "model_module_version": "1.2.0",
          "model_name": "LayoutModel",
          "state": {
            "_model_module": "@jupyter-widgets/base",
            "_model_module_version": "1.2.0",
            "_model_name": "LayoutModel",
            "_view_count": null,
            "_view_module": "@jupyter-widgets/base",
            "_view_module_version": "1.2.0",
            "_view_name": "LayoutView",
            "align_content": null,
            "align_items": null,
            "align_self": null,
            "border": null,
            "bottom": null,
            "display": null,
            "flex": null,
            "flex_flow": null,
            "grid_area": null,
            "grid_auto_columns": null,
            "grid_auto_flow": null,
            "grid_auto_rows": null,
            "grid_column": null,
            "grid_gap": null,
            "grid_row": null,
            "grid_template_areas": null,
            "grid_template_columns": null,
            "grid_template_rows": null,
            "height": null,
            "justify_content": null,
            "justify_items": null,
            "left": null,
            "margin": null,
            "max_height": null,
            "max_width": null,
            "min_height": null,
            "min_width": null,
            "object_fit": null,
            "object_position": null,
            "order": null,
            "overflow": null,
            "overflow_x": null,
            "overflow_y": null,
            "padding": null,
            "right": null,
            "top": null,
            "visibility": null,
            "width": null
          }
        },
        "e24ce8391e074159b6f7581e3c4e3720": {
          "model_module": "@jupyter-widgets/base",
          "model_module_version": "1.2.0",
          "model_name": "LayoutModel",
          "state": {
            "_model_module": "@jupyter-widgets/base",
            "_model_module_version": "1.2.0",
            "_model_name": "LayoutModel",
            "_view_count": null,
            "_view_module": "@jupyter-widgets/base",
            "_view_module_version": "1.2.0",
            "_view_name": "LayoutView",
            "align_content": null,
            "align_items": null,
            "align_self": null,
            "border": null,
            "bottom": null,
            "display": null,
            "flex": null,
            "flex_flow": null,
            "grid_area": null,
            "grid_auto_columns": null,
            "grid_auto_flow": null,
            "grid_auto_rows": null,
            "grid_column": null,
            "grid_gap": null,
            "grid_row": null,
            "grid_template_areas": null,
            "grid_template_columns": null,
            "grid_template_rows": null,
            "height": null,
            "justify_content": null,
            "justify_items": null,
            "left": null,
            "margin": null,
            "max_height": null,
            "max_width": null,
            "min_height": null,
            "min_width": null,
            "object_fit": null,
            "object_position": null,
            "order": null,
            "overflow": null,
            "overflow_x": null,
            "overflow_y": null,
            "padding": null,
            "right": null,
            "top": null,
            "visibility": null,
            "width": null
          }
        },
        "e315aaccdd53443fac46831dfa21445d": {
          "model_module": "@jupyter-widgets/controls",
          "model_module_version": "1.5.0",
          "model_name": "HBoxModel",
          "state": {
            "_dom_classes": [],
            "_model_module": "@jupyter-widgets/controls",
            "_model_module_version": "1.5.0",
            "_model_name": "HBoxModel",
            "_view_count": null,
            "_view_module": "@jupyter-widgets/controls",
            "_view_module_version": "1.5.0",
            "_view_name": "HBoxView",
            "box_style": "",
            "children": [
              "IPY_MODEL_c87d3daa8add452490a60a1b50bd51fd",
              "IPY_MODEL_b6623dadc3e247d1a15593829d000d5f",
              "IPY_MODEL_a0538df3d771480abd2762011bbac934"
            ],
            "layout": "IPY_MODEL_12588170fd924262a3697dcc7c7a517e"
          }
        },
        "e6fbfaf6e78b419c925c481ff359f46e": {
          "model_module": "@jupyter-widgets/controls",
          "model_module_version": "1.5.0",
          "model_name": "FloatProgressModel",
          "state": {
            "_dom_classes": [],
            "_model_module": "@jupyter-widgets/controls",
            "_model_module_version": "1.5.0",
            "_model_name": "FloatProgressModel",
            "_view_count": null,
            "_view_module": "@jupyter-widgets/controls",
            "_view_module_version": "1.5.0",
            "_view_name": "ProgressView",
            "bar_style": "success",
            "description": "",
            "description_tooltip": null,
            "layout": "IPY_MODEL_2fd0d5dd350a4ee9913e7b8a5840db1a",
            "max": 1,
            "min": 0,
            "orientation": "horizontal",
            "style": "IPY_MODEL_746f5a1fcec14e609a5023be2861a423",
            "value": 1
          }
        },
        "e79cbca03af940acbd10b010074f6153": {
          "model_module": "@jupyter-widgets/controls",
          "model_module_version": "1.5.0",
          "model_name": "HTMLModel",
          "state": {
            "_dom_classes": [],
            "_model_module": "@jupyter-widgets/controls",
            "_model_module_version": "1.5.0",
            "_model_name": "HTMLModel",
            "_view_count": null,
            "_view_module": "@jupyter-widgets/controls",
            "_view_module_version": "1.5.0",
            "_view_name": "HTMLView",
            "description": "",
            "description_tooltip": null,
            "layout": "IPY_MODEL_2190edb56668451188aecbd70981085d",
            "placeholder": "​",
            "style": "IPY_MODEL_44057a3034c64040a68f4d617b03fc9b",
            "value": " 1/1 [00:00&lt;00:00,  2.14it/s]"
          }
        },
        "e7f5d1dd002447db8409f94b45e5e85a": {
          "model_module": "@jupyter-widgets/controls",
          "model_module_version": "1.5.0",
          "model_name": "FloatProgressModel",
          "state": {
            "_dom_classes": [],
            "_model_module": "@jupyter-widgets/controls",
            "_model_module_version": "1.5.0",
            "_model_name": "FloatProgressModel",
            "_view_count": null,
            "_view_module": "@jupyter-widgets/controls",
            "_view_module_version": "1.5.0",
            "_view_name": "ProgressView",
            "bar_style": "info",
            "description": "",
            "description_tooltip": null,
            "layout": "IPY_MODEL_a93241da84604652a0be0b84d89e96c1",
            "max": 1,
            "min": 0,
            "orientation": "horizontal",
            "style": "IPY_MODEL_c0d3106eecc9425fa2f5ec5438ff1c17",
            "value": 1
          }
        },
        "eaefc1f5b7ea498cb82dd72ac3133f68": {
          "model_module": "@jupyter-widgets/base",
          "model_module_version": "1.2.0",
          "model_name": "LayoutModel",
          "state": {
            "_model_module": "@jupyter-widgets/base",
            "_model_module_version": "1.2.0",
            "_model_name": "LayoutModel",
            "_view_count": null,
            "_view_module": "@jupyter-widgets/base",
            "_view_module_version": "1.2.0",
            "_view_name": "LayoutView",
            "align_content": null,
            "align_items": null,
            "align_self": null,
            "border": null,
            "bottom": null,
            "display": null,
            "flex": null,
            "flex_flow": null,
            "grid_area": null,
            "grid_auto_columns": null,
            "grid_auto_flow": null,
            "grid_auto_rows": null,
            "grid_column": null,
            "grid_gap": null,
            "grid_row": null,
            "grid_template_areas": null,
            "grid_template_columns": null,
            "grid_template_rows": null,
            "height": null,
            "justify_content": null,
            "justify_items": null,
            "left": null,
            "margin": null,
            "max_height": null,
            "max_width": null,
            "min_height": null,
            "min_width": null,
            "object_fit": null,
            "object_position": null,
            "order": null,
            "overflow": null,
            "overflow_x": null,
            "overflow_y": null,
            "padding": null,
            "right": null,
            "top": null,
            "visibility": null,
            "width": null
          }
        },
        "ebc4b63e4e7b4db9aa207612bcd73a8c": {
          "model_module": "@jupyter-widgets/base",
          "model_module_version": "1.2.0",
          "model_name": "LayoutModel",
          "state": {
            "_model_module": "@jupyter-widgets/base",
            "_model_module_version": "1.2.0",
            "_model_name": "LayoutModel",
            "_view_count": null,
            "_view_module": "@jupyter-widgets/base",
            "_view_module_version": "1.2.0",
            "_view_name": "LayoutView",
            "align_content": null,
            "align_items": null,
            "align_self": null,
            "border": null,
            "bottom": null,
            "display": null,
            "flex": null,
            "flex_flow": null,
            "grid_area": null,
            "grid_auto_columns": null,
            "grid_auto_flow": null,
            "grid_auto_rows": null,
            "grid_column": null,
            "grid_gap": null,
            "grid_row": null,
            "grid_template_areas": null,
            "grid_template_columns": null,
            "grid_template_rows": null,
            "height": null,
            "justify_content": null,
            "justify_items": null,
            "left": null,
            "margin": null,
            "max_height": null,
            "max_width": null,
            "min_height": null,
            "min_width": null,
            "object_fit": null,
            "object_position": null,
            "order": null,
            "overflow": null,
            "overflow_x": null,
            "overflow_y": null,
            "padding": null,
            "right": null,
            "top": null,
            "visibility": null,
            "width": null
          }
        },
        "f1cce9ffa839418c841877a023bbbaf4": {
          "model_module": "@jupyter-widgets/controls",
          "model_module_version": "1.5.0",
          "model_name": "HBoxModel",
          "state": {
            "_dom_classes": [],
            "_model_module": "@jupyter-widgets/controls",
            "_model_module_version": "1.5.0",
            "_model_name": "HBoxModel",
            "_view_count": null,
            "_view_module": "@jupyter-widgets/controls",
            "_view_module_version": "1.5.0",
            "_view_name": "HBoxView",
            "box_style": "",
            "children": [
              "IPY_MODEL_12e1725d39ff49bba9faad5edfeafdda",
              "IPY_MODEL_2484cd070fae4eb9891c4aced52ca141",
              "IPY_MODEL_a85a4c0cda7a4e3598a61023a72d1d8c"
            ],
            "layout": "IPY_MODEL_e12fad18b2e94abab3c26c73d37feb0b"
          }
        },
        "f91ab3e35ca14c118e5d81bd1164b276": {
          "model_module": "@jupyter-widgets/base",
          "model_module_version": "1.2.0",
          "model_name": "LayoutModel",
          "state": {
            "_model_module": "@jupyter-widgets/base",
            "_model_module_version": "1.2.0",
            "_model_name": "LayoutModel",
            "_view_count": null,
            "_view_module": "@jupyter-widgets/base",
            "_view_module_version": "1.2.0",
            "_view_name": "LayoutView",
            "align_content": null,
            "align_items": null,
            "align_self": null,
            "border": null,
            "bottom": null,
            "display": null,
            "flex": null,
            "flex_flow": null,
            "grid_area": null,
            "grid_auto_columns": null,
            "grid_auto_flow": null,
            "grid_auto_rows": null,
            "grid_column": null,
            "grid_gap": null,
            "grid_row": null,
            "grid_template_areas": null,
            "grid_template_columns": null,
            "grid_template_rows": null,
            "height": null,
            "justify_content": null,
            "justify_items": null,
            "left": null,
            "margin": null,
            "max_height": null,
            "max_width": null,
            "min_height": null,
            "min_width": null,
            "object_fit": null,
            "object_position": null,
            "order": null,
            "overflow": null,
            "overflow_x": null,
            "overflow_y": null,
            "padding": null,
            "right": null,
            "top": null,
            "visibility": null,
            "width": null
          }
        },
        "fa41c817c1344d708f9f6eea676438ad": {
          "model_module": "@jupyter-widgets/controls",
          "model_module_version": "1.5.0",
          "model_name": "DescriptionStyleModel",
          "state": {
            "_model_module": "@jupyter-widgets/controls",
            "_model_module_version": "1.5.0",
            "_model_name": "DescriptionStyleModel",
            "_view_count": null,
            "_view_module": "@jupyter-widgets/base",
            "_view_module_version": "1.2.0",
            "_view_name": "StyleView",
            "description_width": ""
          }
        },
        "fe95e2cef04c48c198c7344c4f9454a7": {
          "model_module": "@jupyter-widgets/controls",
          "model_module_version": "1.5.0",
          "model_name": "DescriptionStyleModel",
          "state": {
            "_model_module": "@jupyter-widgets/controls",
            "_model_module_version": "1.5.0",
            "_model_name": "DescriptionStyleModel",
            "_view_count": null,
            "_view_module": "@jupyter-widgets/base",
            "_view_module_version": "1.2.0",
            "_view_name": "StyleView",
            "description_width": ""
          }
        },
        "fe97d93f79dc43d68c9cc99813c77776": {
          "model_module": "@jupyter-widgets/base",
          "model_module_version": "1.2.0",
          "model_name": "LayoutModel",
          "state": {
            "_model_module": "@jupyter-widgets/base",
            "_model_module_version": "1.2.0",
            "_model_name": "LayoutModel",
            "_view_count": null,
            "_view_module": "@jupyter-widgets/base",
            "_view_module_version": "1.2.0",
            "_view_name": "LayoutView",
            "align_content": null,
            "align_items": null,
            "align_self": null,
            "border": null,
            "bottom": null,
            "display": null,
            "flex": null,
            "flex_flow": null,
            "grid_area": null,
            "grid_auto_columns": null,
            "grid_auto_flow": null,
            "grid_auto_rows": null,
            "grid_column": null,
            "grid_gap": null,
            "grid_row": null,
            "grid_template_areas": null,
            "grid_template_columns": null,
            "grid_template_rows": null,
            "height": null,
            "justify_content": null,
            "justify_items": null,
            "left": null,
            "margin": null,
            "max_height": null,
            "max_width": null,
            "min_height": null,
            "min_width": null,
            "object_fit": null,
            "object_position": null,
            "order": null,
            "overflow": null,
            "overflow_x": null,
            "overflow_y": null,
            "padding": null,
            "right": null,
            "top": null,
            "visibility": null,
            "width": null
          }
        },
        "ffac2d757e8f4c9b9d67750f8cfd369f": {
          "model_module": "@jupyter-widgets/controls",
          "model_module_version": "1.5.0",
          "model_name": "DescriptionStyleModel",
          "state": {
            "_model_module": "@jupyter-widgets/controls",
            "_model_module_version": "1.5.0",
            "_model_name": "DescriptionStyleModel",
            "_view_count": null,
            "_view_module": "@jupyter-widgets/base",
            "_view_module_version": "1.2.0",
            "_view_name": "StyleView",
            "description_width": ""
          }
        }
      }
    }
  },
  "nbformat": 4,
  "nbformat_minor": 0
}
