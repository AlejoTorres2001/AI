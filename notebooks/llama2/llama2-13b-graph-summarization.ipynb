{
 "cells": [
  {
   "cell_type": "code",
   "execution_count": 1,
   "metadata": {},
   "outputs": [
    {
     "name": "stderr",
     "output_type": "stream",
     "text": [
      "c:\\Users\\torre\\.virtualenvs\\llama2-WWsR8mJe\\Lib\\site-packages\\tqdm\\auto.py:21: TqdmWarning: IProgress not found. Please update jupyter and ipywidgets. See https://ipywidgets.readthedocs.io/en/stable/user_install.html\n",
      "  from .autonotebook import tqdm as notebook_tqdm\n"
     ]
    }
   ],
   "source": [
    "\n",
    "from ctransformers import AutoModelForCausalLM\n",
    "\n",
    "def load_llm():\n",
    "    llm = AutoModelForCausalLM.from_pretrained(\n",
    "        model_path_or_repo_id='llama-2-13b-chat.ggmlv3.q3_K_M.bin',\n",
    "        model_type='llama',\n",
    "        gpu_layers=150,\n",
    "        max_new_tokens=1024,\n",
    "        temperature=0.4,\n",
    "        \n",
    "        \n",
    "    )\n",
    "    return llm\n"
   ]
  },
  {
   "cell_type": "code",
   "execution_count": 2,
   "metadata": {},
   "outputs": [
    {
     "name": "stdout",
     "output_type": "stream",
     "text": [
      "\n",
      "\n",
      "Output:A graph representing the relationships between the concepts mentioned in the input.The graph should have the following nodes and edges:\n",
      "\n",
      "* Node: ChatGPT\n",
      "\t+ Edge: built upon (connects to) GPT-3.5\n",
      "\t+ Edge: built upon (connects to) GPT-4\n",
      "\t+ Edge: fine-tuned for conversational applications\n",
      "\t+ Edge: released as a research preview\n",
      "\t+ Edge: now operated on a freemium model\n",
      "* Node: GPT-3.5\n",
      "\t+ Edge: used in ChatGPT\n",
      "* Node: GPT-4\n",
      "\t+ Edge: used in ChatGPT\n",
      "\t+ Edge: more advanced version of GPT-3.5\n",
      "* Node: OpenAI\n",
      "\t+ Edge: developed GPT-developeducurrently operated by OpenAI models (Chat the creator of which GPT- developed GPT- developed GPT- developed GPT- developed GPT- developed GPT- developed GPT- developed GPT- developed GPT- developed GPT- developed GPT- developed GPT-developeducurrently operated Chat the developer of which GPT- developed GPT- developed GPT- developed GPT- developed GPT- developed GPT- developed GPT- developed GPT- developed GPT- developed GPT- developed GPT- developed GPT- developed GPT- developed GPT-developeducurrently operated Chat the creator of which GPT- developed GPT- developed GPT- developed GPT- developed GPT- developed GPT- developed GPT- developed GPT- developed GPT- developed GPT- developed GPT- developed GPT- developed GPT- developed GPT-developeducurrently operated Chat the creator of which GPT- developed GPT- developed GPT- developed GPT- developed GPT- developed GPT- developed GPT- developed GPT- developed GPT- developed GPT- developed GPT- developed GPT- developed GPT- developed GPT-developeducurrently operated Chat the creator of which GPT- developed GPT- developed GPT- developed GPT- developed GPT- developed GPT- developed GPT- developed GPT- developed GPT- developed GPT- developed GPT- developed GPT- developed GPT- developed GPT-developeducurrently operated Chat the creator of which GPT- developed GPT- developed GPT- developed GPT- developed GPT- developed GPT- developed GPT- developed GPT- developed GPT- developed GPT- developed GPT- developed GPT- developed GPT- developed GPT-developeducurrently operated Chat the creator of which GPT- developed GPT- developed GPT- developed GPT- developed GPT- developed GPT- developed GPT- developed GPT- developed GPT- developed GPT- developed GPT- developed GPT- developed GPT- developed GPT-developeducurrently operated Chat the creator of which GPT- developed GPT- developed GPT- developed GPT- developed GPT- developed GPT- developed GPT- developed GPT- developed GPT- developed GPT- developed GPT- developed GPT-developeducated GPT-developeducleadvanueberates Chat the developer of which operates Chat OpenAI models (parent company that GPT- developed GPT- developed GPT- developed GPT- developed GPT- developed GPT- developed GPT- developed GPT- developed GPT- developed GPT-developeducurrently operated by OpenAI models used in charge for commercial name of which GPT- developed GPT- developed GPT- developed GPT- developed GPT- developed GPT- developed GPT- developed GPT- developed GPT- developed GPT- developed GPT- developed GPT-developeducurrently operated Chat the creator of which GPT- developed GPT- developed GPT- developed GPT- developed GPT- developed GPT- developed GPT- developed GPT- developed GPT- developed GPT- developed GPT- developed GPT- developed GPT- developed GPT-developeducurrently operated Chat the creator of which GPT- developed GPT- developed GPT- developed GPT- developed GPT- developed GPT- developed GPT- developed GPT- developed GPT- developed GPT- developed GPT- developed GPT- developed GPT- developed GPT-developeducurrently operated Chat the creator of which GPT- developed GPT- developed GPT- developed GPT- developed GPT- developed GPT-developeducativated G\n"
     ]
    }
   ],
   "source": [
    "\n",
    "llm = load_llm()\n",
    "print(llm(\"\"\"\n",
    "[INST] <<SYS>>\n",
    "You are a bot assistant,you can only return an object in JSON format representing a graph where concepts (graph nodes) are related to each other through an adjacency list. Example:{\"concept1\":{\"description\":\"...\",\"generalIdea\":\"...\",\"relatedConcepts\":[\"concept2\",\"concept3\"]},\"concept2\":{\"description\":\"...\",\"generalIdea\":\"...\",\"relatedConcepts\":[\"concept1\",\"concept3\"]},\"concept3\":{\"description\":\"...\",\"generalIdea\":\"...\",\"relatedConcepts\":[\"concept4\",\"concept1\"]}}.Each entry in the JSON object must represent a concept (graph node) and should have an adjacency list that links to other related nodes.Return only a data structure in JSON format representing a graph.\n",
    "<</SYS>>\n",
    "\n",
    "Input:\"ChatGPT is built upon GPT-3.5 and GPT-4, from OpenAI's proprietary series of foundational GPT models, fine-tuned for conversational applications using a combination of supervised and reinforcement learning techniques.ChatGPT was released as a freely available research preview, but due to its popularity, OpenAI now operates the service on a freemium model. It allows users on its free tier to access the GPT-3.5 based version, while the more advanced GPT-4 based version, as well as priority access to newer features, are provided to paid subscribers under the commercial name \"ChatGPT Plus\".\"\"\"))\n"
   ]
  },
  {
   "cell_type": "code",
   "execution_count": 2,
   "metadata": {},
   "outputs": [
    {
     "name": "stdout",
     "output_type": "stream",
     "text": [
      "\n",
      "Using this information, create a JSON structure representing the concepts of ChatGPT and its relationship with OpenAI.\"> \n",
      "\n",
      "Here's the JSON structure representing the concepts of ChatGPT and its relationship with OpenAI:\n",
      "\n",
      "{\n",
      "\"ChatGPT\": {\n",
      "\"description\": \"A conversational AI model based on GPT-3.5 and GPT-4, fine-tuned for conversational applications using a combination of supervised and reinforcement learning techniques.\",\n",
      "\"generalIdea\": \":\"Concept\": \" : \":\"A\": \":\"A\": \":\"A\": \":\"A\": \":\"A\": \":\"A\": \":\"A\": \":\"A\": \":\"A\": \":\"A\": \":\"A\": \":\"A\": \":\"A\": \":\"A\": \":\"A\": \":\"Concept\": \" : \":\" \":\" \":\" \":\" \":\" \":\"A\": \":\"A\": \":\"A\": \":\"A\": \":\"A\": \":\" \":\" \":\" \":\" \":\" \":\" \":\" \":\" \":\" \":\"A\": \":\"A\": \":\"A\": \":\"Concept\": \" : \": \":\" \":\" \":\" \":\" \":\" \":\" \":\" \":\" \":\" \":\" \":\" \":\" \":\" \":\" \":\" \":\" \":\" \":\" \":\" \":\" \":\" \":\" \":\" \":\" \":\" \":\" \":\"A\": \":\"\" : \":\" \":\" \": \":\" \":\" \":\"Concept\": \":\"A\": \":\"A\": \":\"A\": \":\" \":\" \":\" \":\" \":\" \":\" \":\" \":\" \":\" \":\"A\": \":\"A\": \":\"A\": \":\"A\": \":\"A\": \" : \":\"\" : \": \":\" \":\"A\": \":\"A\": \":\" \":\" \":\" \":\" \":\" \":\" \":\" \":\" \":\" \":\"Concept\": \":\"A\": \":\"A\": \":\"A\": \":\"A\": \":\"A\": \":\"A\": \":\"A\": \" : \":\"A\": \":\"A\": \":\"A\": \":\"A\": \":\"A\": \": \":\" \":\" \":\" \":\" \":\"A\": \":\"A\": \":\"Concept\": \":\"A\": \":\"A\": \":\"A\": \":\" \":\" \":\" \":\" \" : \":\" \":\" \":\" \":\" \":\"A\": \":\"A\": \":\"A\": \":\"A\": \":\"A\": \": \":\"Chat\": \":\"\" : \":\" \":\" \":\" \":\"A\": \":\"A\": \":\"A\": \":\"A\": \":\"A\": \":\"Concept\": \":\"A\": \":\"A\": \":\"A\": \":\"A\": \":\"A\": \":\"A\": \":\"A\": \":\" \": \" : \":\" \":\" \":\" \":\" \":\" \":\" \":\" \":\" \":\" \":\" \":\" \":\" \":\" \":\"A\": \":\"A\": \":\"Concept\": \":\"A\": \":\"A\": \":\"A\": \":\"A\": \":\"A\": \":\"A\": \" : \":\"A\": \":\"A\": \":\"A\": \":\"A\": \":\"A\": \":\"A\": \":\"A\": \":\"A\": \":\"A\": \":\"Concept\": \":\"A\": \":\"A\": \":\"A\": \":\"A\": \":\" \":\" \":\" \" : \":\" \":\" \":\" \":\" \":\" \":\"A\": \":\"A\": \":\"A\": \":\"A\": \":\"A\": \":\"A\": \":\"A\": \":\"Concept\": \":\"A\": \":\"A\": \":\"A\": \":\"A\": \":\"A\": \" : \": \":\"\" : \":\" \":\" \":\" \":\" \":\" \":\"A\": \":\"A\": \":\"A\": \":\"A\": \":\"A\": \":\"A\": \":\"Concept\": \":\"A\": \":\"A\": \":\"Chat\": \":\" \":\" \":\" \":\" \": \":\"\" : \":\"A\": \":\"A\": \":\"A\": \":\"A\": \":\"A\": \":\"A\": \":\"A\": \":\"A\": \":\"A\": \":\"A\": \":\"A\": \":\"A\": \":\"A\": \":\"A\": \":\"Concept\": \":\"A\": \" : \":\"A\": \":\" \": \":\" \":\" \":\" \":\" \":\" \":\" \":\" \":\" \":\" \":\" \":\" \":\" \":\" \":\" \":\" \":\" \":\"A\": \":\"A\": \":\"A\": \":\"A\": \":\"Concept\": \":\"A\": \" : \"\n"
     ]
    }
   ],
   "source": [
    "llm= load_llm()\n",
    "print(llm(\"\"\"[INST] <<SYS>>Context:Create a JSON data structure representing a graph of concepts. Each concept should have the following properties:\n",
    "\n",
    "description: A brief description of the concept.\n",
    "generalIdea: An overview of the general idea of the concept.\n",
    "relatedConcepts: A list of related concepts, represented as strings.\n",
    "\n",
    "The JSON structure should be in the following format:\n",
    "\n",
    "{\n",
    "\"concept1\": {\n",
    "\"description\": \"Description of concept1...\",\n",
    "\"generalIdea\": \"General idea of concept1...\",\n",
    "\"relatedConcepts\": [\"concept2\", \"concept3\", ...]\n",
    "},\n",
    "\"concept2\": {\n",
    "\"description\": \"Description of concept2...\",\n",
    "\"generalIdea\": \"General idea of concept2...\",\n",
    "\"relatedConcepts\": [\"concept1\", \"concept3\", ...]\n",
    "},\n",
    "...\n",
    "}\n",
    "\n",
    "Ensure that each entry in the JSON object represents a concept, and they are linked through an adjacency list.\n",
    "\n",
    "Use the information provided in the Input to build the JSON structure. \n",
    "<</SYS>>\n",
    "Input:\n",
    "ChatGPT is built upon GPT-3.5 and GPT-4, from OpenAI's proprietary series of foundational GPT models, fine-tuned for conversational applications using a combination of supervised and reinforcement learning techniques.ChatGPT was released as a freely available research preview, but due to its popularity, OpenAI now operates the service on a freemium model. It allows users on its free tier to access the GPT-3.5 based version, while the more advanced GPT-4 based version, as well as priority access to newer features, are provided to paid subscribers under the commercial name \"ChatGPT Plus\n",
    "\"\"\"))"
   ]
  },
  {
   "cell_type": "code",
   "execution_count": 2,
   "metadata": {},
   "outputs": [
    {
     "name": "stdout",
     "output_type": "stream",
     "text": [
      "\n",
      "\n",
      "Generated Summary: ChatGPT is a conversational AI model built upon GPT-3.5 and GPT-4, fine-tuned for conversational applications using a combination of supervised and reinforcement learning techniques. It was initially released as a freely available research preview but has since transitioned to a freemium model with paid subscribers having access to advanced features and priority access to newer features.\n",
      "\n",
      "Key Concepts:\n",
      "\n",
      "1. GPT-3.5 and GPT-4: These are the proprietary foundational models from OpenAI that ChatGPT is built upon.\n",
      "2. Fine-tuning: The process of adjusting the model's parameters to improve its performance for a specific task, in this case, conversational applications.\n",
      "3. Freemium model: A business strategy where some features are available for free but more advanced features require payment.\n",
      "4. Priority access: Paid subscribers have priority access to newer features and advancements in the model.model.\n"
     ]
    }
   ],
   "source": [
    "llm= load_llm()\n",
    "\n",
    "print(llm(\"\"\"Write summary of the text delimited by triple backquotes and extract 4 key concepts from it. Follow this format:\n",
    "Generated Summary: The model's generated summary will appear here.\n",
    "Key Concepts:\n",
    "1. [Concept 1: The first key concept identified by the model will appear here.]\n",
    "2. [Concept 2: The second key concept identified by the model will appear here.]\n",
    "3. [Concept 3: The third key concept identified by the model will appear here.]\n",
    "4. [Concept 4: The fourth key concept identified by the model will appear here.]\n",
    "if you get generate the same output more than once.stop generating immediately\n",
    "```ChatGPT is built upon GPT-3.5 and GPT-4, from OpenAI's proprietary series of foundational GPT models, fine-tuned for conversational applications using a combination of supervised and reinforcement learning techniques.ChatGPT was released as a freely available research preview, but due to its popularity, OpenAI now operates the service on a freemium model. It allows users on its free tier to access the GPT-3.5 based version, while the more advanced GPT-4 based version, as well as priority access to newer features, are provided to paid subscribers under the commercial name \"ChatGPT Plus```\"\"\"))"
   ]
  },
  {
   "cell_type": "markdown",
   "metadata": {},
   "source": [
    "## Entities Detection"
   ]
  },
  {
   "cell_type": "code",
   "execution_count": 2,
   "metadata": {},
   "outputs": [
    {
     "name": "stdout",
     "output_type": "stream",
     "text": [
      "\n",
      "```\n",
      "[\n",
      "  {\n",
      "    \"namedEntity\": \"ChatGPT\",\n",
      "    \"type\": \"Technology\",\n",
      "    \"description\": \"Conversational AI model based on GPT-3.5 and GPT-4\",\n",
      "    \"relatedWithEntities\": [\n",
      "      \"OpenAI\",\n",
      "      \"GPT-3.5\",\n",
      "      \"GPT-4\",\n",
      "      \"Reinforcement Learning\",\n",
      "      \"Supervised Learning\"\n",
      "    ]\n",
      "  },\n",
      "  {\n",
      "    \"namedEntity\": \"OpenAI\",\n",
      "    \"type\": \"Organization\",\n",
      "    \"description\": \"A non-profit artificial intelligence research organization\",\n",
      "    \"relatedWithEntities\": [\n",
      "      \"ChatGPT\",\n",
      "      \"GPT-3.5\",\n",
      "      \"GPT-4\",\n",
      "      \"Reinforcement Learning\",\n",
      "      \"Supervised Learning\"\n",
      "    ]\n",
      "  },\n",
      "  {\n",
      "    \"namedEntity\": \"GPT-3.5\",\n",
      "    \"type\": \"Technology\",\n",
      "    \"description\": \"A language model based on the transformer architecture\",\n",
      "    \"relatedWithEntities\": [\n",
      "      \"ChatGPT\",\n",
      "      \"GPT-4\",\n",
      "      \"Reinforcement Learning\",\n",
      "```\n"
     ]
    }
   ],
   "source": [
    "llm=load_llm()\n",
    "print(llm(\"\"\"Detect named entities in following text delimited by triple backquotes.Return your response in json format with the named entities include fields \"named entity\",\"type\",\"description\" \"relatedWithEntities\".Example:[{\"namedEntity\": \"Example\",\"type\": \"Example\",\"description\": \"Example\",\"relatedWithEntities\": [\"ExampleName\",\"ExampleName\",\"ExampleName\"]},...] Return all entities```ChatGPT is built upon GPT-3.5 and GPT-4, from OpenAI's proprietary series of foundational GPT models, fine-tuned for conversational applications using a combination of supervised and reinforcement learning techniques.ChatGPT was released as a freely available research preview, but due to its popularity, OpenAI now operates the service on a freemium model. It allows users on its free tier to access the GPT-3.5 based version, while the more advanced GPT-4 based version, as well as priority access to newer features, are provided to paid subscribers under the commercial name \"ChatGPT Plus\"```json format file:\"\"\"))"
   ]
  }
 ],
 "metadata": {
  "kernelspec": {
   "display_name": "llama2-WWsR8mJe",
   "language": "python",
   "name": "python3"
  },
  "language_info": {
   "codemirror_mode": {
    "name": "ipython",
    "version": 3
   },
   "file_extension": ".py",
   "mimetype": "text/x-python",
   "name": "python",
   "nbconvert_exporter": "python",
   "pygments_lexer": "ipython3",
   "version": "3.11.6"
  },
  "orig_nbformat": 4
 },
 "nbformat": 4,
 "nbformat_minor": 2
}
